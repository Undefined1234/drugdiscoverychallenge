{
 "cells": [
  {
   "cell_type": "markdown",
   "id": "ff48f2a0-a65d-4e45-8c97-4509d9ee5d96",
   "metadata": {},
   "source": [
    "# Assignment 3 Advanced programming"
   ]
  },
  {
   "cell_type": "markdown",
   "id": "0061c929-c5f5-4ef2-be93-fc48db47a545",
   "metadata": {},
   "source": [
    "Script to analyse molecule ALDL1 inhibition."
   ]
  },
  {
   "cell_type": "code",
   "execution_count": 71,
   "id": "d3e1877f-2a83-4536-b534-810de76d6f54",
   "metadata": {},
   "outputs": [],
   "source": [
    "import os\n",
    "import numpy as np\n",
    "import pandas as pd\n",
    "import matplotlib.pyplot as plt\n",
    "import seaborn as sns\n",
    "from IPython.display import display\n",
    "from rdkit.Chem import PandasTools, Descriptors\n",
    "from rdkit.ML.Descriptors import MoleculeDescriptors\n",
    "from sklearn import pipeline as pl\n",
    "from sklearn import preprocessing as pp\n",
    "from sklearn import tree\n",
    "from sklearn.metrics import confusion_matrix\n",
    "from sklearn.model_selection import train_test_split\n",
    "from sklearn.decomposition import PCA\n",
    "from sklearn.model_selection import cross_val_score\n",
    "#import graphviz "
   ]
  },
  {
   "cell_type": "markdown",
   "id": "981bf16d-f5d3-488f-b828-a2a387bd8c2a",
   "metadata": {},
   "source": [
    "# 1 Load tested molecules"
   ]
  },
  {
   "cell_type": "markdown",
   "id": "1d0cc495-4b27-41e7-aece-6b97bed22643",
   "metadata": {},
   "source": [
    "We received two files with tested molecules for ALDH1 inhibition. Analysis showed that the prediction algorithms worked with sensitivity, specifity and precision when only the v2 dataset was used! The first dataset showed mediocre results. We decided, though tempting to use only v2, to uses both sets for the predictions, since we don't have any guarantee that the unknown molecules behave more like v2-molecules."
   ]
  },
  {
   "cell_type": "code",
   "execution_count": 72,
   "id": "98b82e41-9a32-4fb9-9fb4-07a877313b7f",
   "metadata": {},
   "outputs": [
    {
     "data": {
      "text/html": [
       "<div>\n",
       "<style scoped>\n",
       "    .dataframe tbody tr th:only-of-type {\n",
       "        vertical-align: middle;\n",
       "    }\n",
       "\n",
       "    .dataframe tbody tr th {\n",
       "        vertical-align: top;\n",
       "    }\n",
       "\n",
       "    .dataframe thead th {\n",
       "        text-align: right;\n",
       "    }\n",
       "</style>\n",
       "<table border=\"1\" class=\"dataframe\">\n",
       "  <thead>\n",
       "    <tr style=\"text-align: right;\">\n",
       "      <th></th>\n",
       "      <th>SMILES</th>\n",
       "      <th>ALDH1_inhibition</th>\n",
       "      <th>ROMol</th>\n",
       "      <th>FROM DATASET</th>\n",
       "    </tr>\n",
       "  </thead>\n",
       "  <tbody>\n",
       "    <tr>\n",
       "      <th>0</th>\n",
       "      <td>COc1ccccc1CC(NC(C)=O)C(=O)NC1CCN(c2nnnn2-c2ccc...</td>\n",
       "      <td>1</td>\n",
       "      <td>&lt;rdkit.Chem.rdchem.Mol object at 0x000001FFADF...</td>\n",
       "      <td>0</td>\n",
       "    </tr>\n",
       "    <tr>\n",
       "      <th>1</th>\n",
       "      <td>O=C(CSc1nc2cccnc2n1Cc1ccccc1)NCc1ccco1</td>\n",
       "      <td>1</td>\n",
       "      <td>&lt;rdkit.Chem.rdchem.Mol object at 0x000001FFADF...</td>\n",
       "      <td>0</td>\n",
       "    </tr>\n",
       "    <tr>\n",
       "      <th>2</th>\n",
       "      <td>Cc1cccc2cc(C[NH+](CC3CCCO3)C(c3nnnn3Cc3ccco3)C...</td>\n",
       "      <td>1</td>\n",
       "      <td>&lt;rdkit.Chem.rdchem.Mol object at 0x000001FFADF...</td>\n",
       "      <td>0</td>\n",
       "    </tr>\n",
       "    <tr>\n",
       "      <th>3</th>\n",
       "      <td>CCN(CC)c1ccc2c(Cl)c(Br)c(=O)oc2c1</td>\n",
       "      <td>1</td>\n",
       "      <td>&lt;rdkit.Chem.rdchem.Mol object at 0x000001FFADF...</td>\n",
       "      <td>0</td>\n",
       "    </tr>\n",
       "    <tr>\n",
       "      <th>4</th>\n",
       "      <td>CS(=O)(=O)N1CCc2cc(-c3csc(NC(=O)Cc4cccs4)n3)ccc21</td>\n",
       "      <td>1</td>\n",
       "      <td>&lt;rdkit.Chem.rdchem.Mol object at 0x000001FFADF...</td>\n",
       "      <td>0</td>\n",
       "    </tr>\n",
       "  </tbody>\n",
       "</table>\n",
       "</div>"
      ],
      "text/plain": [
       "                                              SMILES  ALDH1_inhibition  \\\n",
       "0  COc1ccccc1CC(NC(C)=O)C(=O)NC1CCN(c2nnnn2-c2ccc...                 1   \n",
       "1             O=C(CSc1nc2cccnc2n1Cc1ccccc1)NCc1ccco1                 1   \n",
       "2  Cc1cccc2cc(C[NH+](CC3CCCO3)C(c3nnnn3Cc3ccco3)C...                 1   \n",
       "3                  CCN(CC)c1ccc2c(Cl)c(Br)c(=O)oc2c1                 1   \n",
       "4  CS(=O)(=O)N1CCc2cc(-c3csc(NC(=O)Cc4cccs4)n3)ccc21                 1   \n",
       "\n",
       "                                               ROMol  FROM DATASET  \n",
       "0  <rdkit.Chem.rdchem.Mol object at 0x000001FFADF...             0  \n",
       "1  <rdkit.Chem.rdchem.Mol object at 0x000001FFADF...             0  \n",
       "2  <rdkit.Chem.rdchem.Mol object at 0x000001FFADF...             0  \n",
       "3  <rdkit.Chem.rdchem.Mol object at 0x000001FFADF...             0  \n",
       "4  <rdkit.Chem.rdchem.Mol object at 0x000001FFADF...             0  "
      ]
     },
     "execution_count": 72,
     "metadata": {},
     "output_type": "execute_result"
    }
   ],
   "source": [
    "tested_molecules_files = ['tested_molecules.csv','tested_molecules_v2.csv']\n",
    "dataset_molecules = pd.DataFrame()\n",
    "for i, file in enumerate(tested_molecules_files):\n",
    "    tested_molecules = pd.read_csv(os.path.join(os.getcwd(), file))\n",
    "    PandasTools.AddMoleculeColumnToFrame(tested_molecules, smilesCol='SMILES')\n",
    "    tested_molecules['FROM DATASET'] = i\n",
    "    dataset_molecules = dataset_molecules.append(tested_molecules, ignore_index = True)\n",
    "    \n",
    "dataset_molecules.head()"
   ]
  },
  {
   "cell_type": "markdown",
   "id": "3e70cf9f-ea52-4d16-b960-07b83ee0ee7b",
   "metadata": {},
   "source": [
    "# 2 Preparation of molecular descriptors"
   ]
  },
  {
   "cell_type": "markdown",
   "id": "bb3b5d6c-7108-442d-8c6e-db361819e7d9",
   "metadata": {},
   "source": [
    "Add all molecular descriptor and calculate them to a pd DataFrame dataset_descriptors"
   ]
  },
  {
   "cell_type": "code",
   "execution_count": 73,
   "id": "6579738f-fdb7-4cec-a397-5350cd90ce7b",
   "metadata": {},
   "outputs": [],
   "source": [
    "descriptors_labels = [n[0] for n in Descriptors._descList[:]]\n",
    "calc = MoleculeDescriptors.MolecularDescriptorCalculator(descriptors_labels)\n",
    "rdkit_desc = [calc.CalcDescriptors(m) for m in dataset_molecules[\"ROMol\"]]\n",
    "dataset_descriptors = pd.DataFrame(rdkit_desc, columns=[descriptors_labels])"
   ]
  },
  {
   "cell_type": "markdown",
   "id": "6d66e290-3877-4a8c-b6a9-83dffd953f9b",
   "metadata": {},
   "source": [
    "Select only the 'good' descriptors, as calculated by MART........"
   ]
  },
  {
   "cell_type": "code",
   "execution_count": 74,
   "id": "bac8bda9-d344-4de1-beb7-2990dedbad98",
   "metadata": {},
   "outputs": [
    {
     "data": {
      "text/html": [
       "<div>\n",
       "<style scoped>\n",
       "    .dataframe tbody tr th:only-of-type {\n",
       "        vertical-align: middle;\n",
       "    }\n",
       "\n",
       "    .dataframe tbody tr th {\n",
       "        vertical-align: top;\n",
       "    }\n",
       "\n",
       "    .dataframe thead tr th {\n",
       "        text-align: left;\n",
       "    }\n",
       "</style>\n",
       "<table border=\"1\" class=\"dataframe\">\n",
       "  <thead>\n",
       "    <tr>\n",
       "      <th></th>\n",
       "      <th>MaxAbsEStateIndex</th>\n",
       "      <th>MinAbsEStateIndex</th>\n",
       "      <th>MinEStateIndex</th>\n",
       "      <th>BCUT2D_CHGHI</th>\n",
       "      <th>BCUT2D_CHGLO</th>\n",
       "      <th>BCUT2D_LOGPLOW</th>\n",
       "      <th>BCUT2D_MRLOW</th>\n",
       "      <th>SMR_VSA1</th>\n",
       "      <th>SMR_VSA5</th>\n",
       "      <th>SlogP_VSA2</th>\n",
       "      <th>EState_VSA10</th>\n",
       "      <th>VSA_EState2</th>\n",
       "      <th>FractionCSP3</th>\n",
       "      <th>NumAliphaticRings</th>\n",
       "    </tr>\n",
       "  </thead>\n",
       "  <tbody>\n",
       "    <tr>\n",
       "      <th>0</th>\n",
       "      <td>13.083531</td>\n",
       "      <td>0.001173</td>\n",
       "      <td>-0.683140</td>\n",
       "      <td>2.277377</td>\n",
       "      <td>-2.329164</td>\n",
       "      <td>-2.524368</td>\n",
       "      <td>-0.128181</td>\n",
       "      <td>14.325937</td>\n",
       "      <td>38.269884</td>\n",
       "      <td>64.304606</td>\n",
       "      <td>9.589074</td>\n",
       "      <td>26.972964</td>\n",
       "      <td>0.375000</td>\n",
       "      <td>1</td>\n",
       "    </tr>\n",
       "    <tr>\n",
       "      <th>1</th>\n",
       "      <td>12.170097</td>\n",
       "      <td>0.066966</td>\n",
       "      <td>-0.066966</td>\n",
       "      <td>2.140429</td>\n",
       "      <td>-2.083839</td>\n",
       "      <td>-2.240774</td>\n",
       "      <td>-0.118316</td>\n",
       "      <td>9.211688</td>\n",
       "      <td>18.245949</td>\n",
       "      <td>26.195090</td>\n",
       "      <td>4.794537</td>\n",
       "      <td>21.295170</td>\n",
       "      <td>0.150000</td>\n",
       "      <td>0</td>\n",
       "    </tr>\n",
       "    <tr>\n",
       "      <th>2</th>\n",
       "      <td>10.905837</td>\n",
       "      <td>0.016881</td>\n",
       "      <td>-0.016881</td>\n",
       "      <td>2.359046</td>\n",
       "      <td>-2.317898</td>\n",
       "      <td>-3.124535</td>\n",
       "      <td>-0.951912</td>\n",
       "      <td>19.160451</td>\n",
       "      <td>58.848175</td>\n",
       "      <td>49.553366</td>\n",
       "      <td>5.106527</td>\n",
       "      <td>5.789600</td>\n",
       "      <td>0.461538</td>\n",
       "      <td>1</td>\n",
       "    </tr>\n",
       "    <tr>\n",
       "      <th>3</th>\n",
       "      <td>11.562446</td>\n",
       "      <td>0.270607</td>\n",
       "      <td>-0.454447</td>\n",
       "      <td>2.116608</td>\n",
       "      <td>-2.205938</td>\n",
       "      <td>-2.211289</td>\n",
       "      <td>0.556316</td>\n",
       "      <td>4.417151</td>\n",
       "      <td>13.847474</td>\n",
       "      <td>13.089513</td>\n",
       "      <td>4.794537</td>\n",
       "      <td>13.738424</td>\n",
       "      <td>0.307692</td>\n",
       "      <td>0</td>\n",
       "    </tr>\n",
       "    <tr>\n",
       "      <th>4</th>\n",
       "      <td>12.108866</td>\n",
       "      <td>0.086947</td>\n",
       "      <td>-3.251317</td>\n",
       "      <td>2.259832</td>\n",
       "      <td>-2.158781</td>\n",
       "      <td>-2.269383</td>\n",
       "      <td>-0.115075</td>\n",
       "      <td>13.212334</td>\n",
       "      <td>12.841643</td>\n",
       "      <td>32.109481</td>\n",
       "      <td>13.212334</td>\n",
       "      <td>17.622350</td>\n",
       "      <td>0.222222</td>\n",
       "      <td>1</td>\n",
       "    </tr>\n",
       "  </tbody>\n",
       "</table>\n",
       "</div>"
      ],
      "text/plain": [
       "  MaxAbsEStateIndex MinAbsEStateIndex MinEStateIndex BCUT2D_CHGHI  \\\n",
       "0         13.083531          0.001173      -0.683140     2.277377   \n",
       "1         12.170097          0.066966      -0.066966     2.140429   \n",
       "2         10.905837          0.016881      -0.016881     2.359046   \n",
       "3         11.562446          0.270607      -0.454447     2.116608   \n",
       "4         12.108866          0.086947      -3.251317     2.259832   \n",
       "\n",
       "  BCUT2D_CHGLO BCUT2D_LOGPLOW BCUT2D_MRLOW   SMR_VSA1   SMR_VSA5 SlogP_VSA2  \\\n",
       "0    -2.329164      -2.524368    -0.128181  14.325937  38.269884  64.304606   \n",
       "1    -2.083839      -2.240774    -0.118316   9.211688  18.245949  26.195090   \n",
       "2    -2.317898      -3.124535    -0.951912  19.160451  58.848175  49.553366   \n",
       "3    -2.205938      -2.211289     0.556316   4.417151  13.847474  13.089513   \n",
       "4    -2.158781      -2.269383    -0.115075  13.212334  12.841643  32.109481   \n",
       "\n",
       "  EState_VSA10 VSA_EState2 FractionCSP3 NumAliphaticRings  \n",
       "0     9.589074   26.972964     0.375000                 1  \n",
       "1     4.794537   21.295170     0.150000                 0  \n",
       "2     5.106527    5.789600     0.461538                 1  \n",
       "3     4.794537   13.738424     0.307692                 0  \n",
       "4    13.212334   17.622350     0.222222                 1  "
      ]
     },
     "execution_count": 74,
     "metadata": {},
     "output_type": "execute_result"
    }
   ],
   "source": [
    "dataset_descriptors = dataset_descriptors[['MaxAbsEStateIndex',\n",
    " 'MinAbsEStateIndex',\n",
    " 'MinEStateIndex',\n",
    " 'BCUT2D_CHGHI',\n",
    " 'BCUT2D_CHGLO',\n",
    " 'BCUT2D_LOGPLOW',\n",
    " 'BCUT2D_MRLOW',\n",
    " 'SMR_VSA1',\n",
    " 'SMR_VSA5',\n",
    " 'SlogP_VSA2',\n",
    " 'EState_VSA10',\n",
    " 'VSA_EState2',\n",
    " 'FractionCSP3',\n",
    " 'NumAliphaticRings']]\n",
    "\n",
    "dataset_descriptors.head()"
   ]
  },
  {
   "cell_type": "markdown",
   "id": "a949959b-f945-4b15-8625-4f63913f5078",
   "metadata": {},
   "source": [
    "# 3 Do the trick on the known molecules"
   ]
  },
  {
   "cell_type": "markdown",
   "id": "9b423373-3fd7-4558-b9df-d258c1c39144",
   "metadata": {},
   "source": [
    "### Divide the known dataset in test and train"
   ]
  },
  {
   "cell_type": "code",
   "execution_count": 78,
   "id": "89e56295-ef3f-4594-bd94-a7f8eded4ef9",
   "metadata": {},
   "outputs": [],
   "source": [
    "X_train, X_test, y_train, y_test = train_test_split(dataset_descriptors, dataset_molecules['ALDH1_inhibition'], test_size=0.2, random_state=42)"
   ]
  },
  {
   "cell_type": "markdown",
   "id": "941cef83-8db3-4ab1-8680-176561d0eb19",
   "metadata": {},
   "source": [
    "### Introducing a Pipeline with minmax scaler and Desciscion tree."
   ]
  },
  {
   "cell_type": "code",
   "execution_count": 79,
   "id": "dcbdb2c9-7282-47f4-bbbb-1a9313cf576c",
   "metadata": {},
   "outputs": [
    {
     "name": "stdout",
     "output_type": "stream",
     "text": [
      "Cross score:\n",
      "[0.7125  0.7375  0.6     0.65625 0.69375 0.75    0.65    0.6625  0.6875\n",
      " 0.7125 ]\n",
      "score:\n",
      "0.715\n"
     ]
    }
   ],
   "source": [
    "scaler = pp.MinMaxScaler()\n",
    "pca = PCA()\n",
    "dtree = tree.DecisionTreeClassifier(max_features=None, max_depth=None, max_leaf_nodes=None)\n",
    "\n",
    "pipeline = pl.Pipeline(steps=[(\"sc\", scaler), (\"pca\", pca), (\"dtreeCLF\", dtree)])\n",
    "cross_score = cross_val_score(pipeline, X_train, y_train, cv=10)\n",
    "print(\"Cross score:\") \n",
    "print(cross_score)\n",
    "pipeline.fit(X_train, y_train)\n",
    "print(\"score:\")\n",
    "print(pipeline.score(X_test, y_test))"
   ]
  },
  {
   "cell_type": "markdown",
   "id": "ccca3b91-f462-49ec-85e6-bc150c0b500d",
   "metadata": {},
   "source": [
    "### Creating a physical tree"
   ]
  },
  {
   "cell_type": "code",
   "execution_count": 80,
   "id": "004bde19-ba2d-48c8-b60c-5c9d1d9714b9",
   "metadata": {},
   "outputs": [],
   "source": [
    "#dot_data = tree.export_graphviz(dtree, out_file=None, feature_names=dataset_descriptors.columns, class_names=['1', '0'])\n",
    "#graph = graphviz.Source(dot_data) \n",
    "#graph.render(\"descision_tree\") "
   ]
  },
  {
   "cell_type": "markdown",
   "id": "70bca610-ac87-4030-a33b-28074684b949",
   "metadata": {},
   "source": [
    "### Analysing the model"
   ]
  },
  {
   "cell_type": "code",
   "execution_count": 81,
   "id": "eca455b0-fd79-4400-bc54-e88430f14549",
   "metadata": {},
   "outputs": [
    {
     "name": "stdout",
     "output_type": "stream",
     "text": [
      " |+\t|-\t|\n",
      "+|72\t|66\t|\n",
      "-|48\t|214\t|\n",
      "Specificiteit: 0.76 Sensitivity: 0.52 Accuracy 0.71, Balanced Accuracy: 0.67, TPR: 0.52\n"
     ]
    }
   ],
   "source": [
    "y_true = y_test\n",
    "y_pred = pipeline.predict(X_test)\n",
    "\n",
    "tn, fp, fn, tp = confusion_matrix(y_true, y_pred).ravel()\n",
    "specificity = tn / (tn+fp)\n",
    "sensitivity = tp/(tp+fp) \n",
    "accuracy = (tp+tn)/(tp+tn+fp+fn)\n",
    "tpr = tp/(tp+fp)\n",
    "tnr = tn/(tn+fn)\n",
    "balanced_accuracy = (tpr+tnr)/2\n",
    "print(\" |+\\t|-\\t|\\n+|{:.0f}\\t|{:.0f}\\t|\\n-|{:.0f}\\t|{:.0f}\\t|\".format(tp, fp, fn, tn))\n",
    "print(\"Specificiteit: {:.2f} Sensitivity: {:.2f} Accuracy {:.2f}, Balanced Accuracy: {:.2f}, TPR: {:.2f}\".format(specificity, sensitivity, accuracy, balanced_accuracy, tpr))"
   ]
  },
  {
   "cell_type": "markdown",
   "id": "ff4ef9b3-714c-484e-8c0b-51d1d026a507",
   "metadata": {},
   "source": [
    "## Further processing of the selection"
   ]
  },
  {
   "cell_type": "markdown",
   "id": "33f7afd2-aa5d-4252-b5d7-d7f28e661c8e",
   "metadata": {},
   "source": [
    "Create new datafame 'pipeline_results' from X_test. Append values for 'ALDH1_inhibition' and 'predicted'"
   ]
  },
  {
   "cell_type": "code",
   "execution_count": 60,
   "id": "ec33ac4c-7a37-42fc-8daf-b3b0e3ea38c5",
   "metadata": {},
   "outputs": [
    {
     "data": {
      "text/html": [
       "<div>\n",
       "<style scoped>\n",
       "    .dataframe tbody tr th:only-of-type {\n",
       "        vertical-align: middle;\n",
       "    }\n",
       "\n",
       "    .dataframe tbody tr th {\n",
       "        vertical-align: top;\n",
       "    }\n",
       "\n",
       "    .dataframe thead tr th {\n",
       "        text-align: left;\n",
       "    }\n",
       "</style>\n",
       "<table border=\"1\" class=\"dataframe\">\n",
       "  <thead>\n",
       "    <tr>\n",
       "      <th></th>\n",
       "      <th>MaxAbsEStateIndex</th>\n",
       "      <th>MinAbsEStateIndex</th>\n",
       "      <th>MinEStateIndex</th>\n",
       "      <th>BCUT2D_CHGHI</th>\n",
       "      <th>BCUT2D_CHGLO</th>\n",
       "      <th>BCUT2D_LOGPLOW</th>\n",
       "      <th>BCUT2D_MRLOW</th>\n",
       "      <th>SMR_VSA1</th>\n",
       "      <th>SMR_VSA5</th>\n",
       "      <th>SlogP_VSA2</th>\n",
       "      <th>EState_VSA10</th>\n",
       "      <th>VSA_EState2</th>\n",
       "      <th>FractionCSP3</th>\n",
       "      <th>NumAliphaticRings</th>\n",
       "      <th>ALDH1_inhibition</th>\n",
       "      <th>predicted</th>\n",
       "    </tr>\n",
       "  </thead>\n",
       "  <tbody>\n",
       "    <tr>\n",
       "      <th>1860</th>\n",
       "      <td>12.385892</td>\n",
       "      <td>0.102195</td>\n",
       "      <td>-0.355352</td>\n",
       "      <td>2.096880</td>\n",
       "      <td>-1.996819</td>\n",
       "      <td>-2.138386</td>\n",
       "      <td>0.104208</td>\n",
       "      <td>9.531400</td>\n",
       "      <td>0.000000</td>\n",
       "      <td>19.940714</td>\n",
       "      <td>9.589074</td>\n",
       "      <td>24.733259</td>\n",
       "      <td>0.111111</td>\n",
       "      <td>0</td>\n",
       "      <td>1</td>\n",
       "      <td>0</td>\n",
       "    </tr>\n",
       "    <tr>\n",
       "      <th>353</th>\n",
       "      <td>11.497306</td>\n",
       "      <td>0.128372</td>\n",
       "      <td>0.128372</td>\n",
       "      <td>2.026738</td>\n",
       "      <td>-2.066822</td>\n",
       "      <td>-1.978741</td>\n",
       "      <td>0.098787</td>\n",
       "      <td>9.531400</td>\n",
       "      <td>19.951441</td>\n",
       "      <td>5.783245</td>\n",
       "      <td>4.794537</td>\n",
       "      <td>11.497306</td>\n",
       "      <td>0.176471</td>\n",
       "      <td>0</td>\n",
       "      <td>0</td>\n",
       "      <td>0</td>\n",
       "    </tr>\n",
       "    <tr>\n",
       "      <th>1333</th>\n",
       "      <td>5.466786</td>\n",
       "      <td>0.512673</td>\n",
       "      <td>0.512673</td>\n",
       "      <td>2.012194</td>\n",
       "      <td>-1.952063</td>\n",
       "      <td>-1.809817</td>\n",
       "      <td>1.016058</td>\n",
       "      <td>0.000000</td>\n",
       "      <td>10.092509</td>\n",
       "      <td>15.181342</td>\n",
       "      <td>0.000000</td>\n",
       "      <td>4.031510</td>\n",
       "      <td>0.125000</td>\n",
       "      <td>0</td>\n",
       "      <td>0</td>\n",
       "      <td>0</td>\n",
       "    </tr>\n",
       "    <tr>\n",
       "      <th>905</th>\n",
       "      <td>5.491585</td>\n",
       "      <td>0.749635</td>\n",
       "      <td>0.749635</td>\n",
       "      <td>2.164873</td>\n",
       "      <td>-2.281741</td>\n",
       "      <td>-3.037219</td>\n",
       "      <td>-0.872227</td>\n",
       "      <td>9.636773</td>\n",
       "      <td>6.544756</td>\n",
       "      <td>50.366578</td>\n",
       "      <td>0.000000</td>\n",
       "      <td>12.771802</td>\n",
       "      <td>0.333333</td>\n",
       "      <td>1</td>\n",
       "      <td>0</td>\n",
       "      <td>0</td>\n",
       "    </tr>\n",
       "    <tr>\n",
       "      <th>1289</th>\n",
       "      <td>12.326886</td>\n",
       "      <td>0.320137</td>\n",
       "      <td>-4.318778</td>\n",
       "      <td>2.293728</td>\n",
       "      <td>-2.081858</td>\n",
       "      <td>-2.051431</td>\n",
       "      <td>-0.137118</td>\n",
       "      <td>13.171245</td>\n",
       "      <td>12.721055</td>\n",
       "      <td>9.586925</td>\n",
       "      <td>13.171245</td>\n",
       "      <td>0.000000</td>\n",
       "      <td>0.200000</td>\n",
       "      <td>0</td>\n",
       "      <td>0</td>\n",
       "      <td>0</td>\n",
       "    </tr>\n",
       "  </tbody>\n",
       "</table>\n",
       "</div>"
      ],
      "text/plain": [
       "     MaxAbsEStateIndex MinAbsEStateIndex MinEStateIndex BCUT2D_CHGHI  \\\n",
       "1860         12.385892          0.102195      -0.355352     2.096880   \n",
       "353          11.497306          0.128372       0.128372     2.026738   \n",
       "1333          5.466786          0.512673       0.512673     2.012194   \n",
       "905           5.491585          0.749635       0.749635     2.164873   \n",
       "1289         12.326886          0.320137      -4.318778     2.293728   \n",
       "\n",
       "     BCUT2D_CHGLO BCUT2D_LOGPLOW BCUT2D_MRLOW   SMR_VSA1   SMR_VSA5  \\\n",
       "1860    -1.996819      -2.138386     0.104208   9.531400   0.000000   \n",
       "353     -2.066822      -1.978741     0.098787   9.531400  19.951441   \n",
       "1333    -1.952063      -1.809817     1.016058   0.000000  10.092509   \n",
       "905     -2.281741      -3.037219    -0.872227   9.636773   6.544756   \n",
       "1289    -2.081858      -2.051431    -0.137118  13.171245  12.721055   \n",
       "\n",
       "     SlogP_VSA2 EState_VSA10 VSA_EState2 FractionCSP3 NumAliphaticRings  \\\n",
       "1860  19.940714     9.589074   24.733259     0.111111                 0   \n",
       "353    5.783245     4.794537   11.497306     0.176471                 0   \n",
       "1333  15.181342     0.000000    4.031510     0.125000                 0   \n",
       "905   50.366578     0.000000   12.771802     0.333333                 1   \n",
       "1289   9.586925    13.171245    0.000000     0.200000                 0   \n",
       "\n",
       "     ALDH1_inhibition predicted  \n",
       "1860                1         0  \n",
       "353                 0         0  \n",
       "1333                0         0  \n",
       "905                 0         0  \n",
       "1289                0         0  "
      ]
     },
     "execution_count": 60,
     "metadata": {},
     "output_type": "execute_result"
    }
   ],
   "source": [
    "pipeline_results = X_test.copy()\n",
    "pipeline_results['ALDH1_inhibition'] = y_test\n",
    "pipeline_results['predicted'] = y_pred\n",
    "pipeline_results.head()"
   ]
  },
  {
   "cell_type": "markdown",
   "id": "a9019d16-52e7-45e2-9095-c988154fb904",
   "metadata": {},
   "source": [
    "Select only the predicted positives"
   ]
  },
  {
   "cell_type": "code",
   "execution_count": 61,
   "id": "4c4aff0f-69f8-41e4-9bb7-8d49c374f814",
   "metadata": {},
   "outputs": [
    {
     "name": "stdout",
     "output_type": "stream",
     "text": [
      "Result: 134 positives were selected from pipeline\n"
     ]
    }
   ],
   "source": [
    "pipeline_positives = pipeline_results[pipeline_results['predicted'].values == 1]\n",
    "print(\"Result: {} positives were selected from pipeline\".format(pipeline_positives.shape[0]))"
   ]
  },
  {
   "cell_type": "code",
   "execution_count": 62,
   "id": "8f2c3a74-187a-4d78-a0e2-7cf04c42e1b4",
   "metadata": {},
   "outputs": [
    {
     "data": {
      "text/plain": [
       "pandas.core.frame.DataFrame"
      ]
     },
     "execution_count": 62,
     "metadata": {},
     "output_type": "execute_result"
    }
   ],
   "source": [
    "type(pipeline_positives)"
   ]
  },
  {
   "cell_type": "markdown",
   "id": "a6bdec5c-b380-41f6-abc2-2bf0f321a39e",
   "metadata": {},
   "source": [
    "## Further Selection with Tanamoto similarity"
   ]
  },
  {
   "cell_type": "markdown",
   "id": "333ea8e0-70a2-4f59-b359-097e1c80d2a5",
   "metadata": {},
   "source": [
    "Load all known molecules in frame."
   ]
  },
  {
   "cell_type": "code",
   "execution_count": 63,
   "id": "0ae2d3f1-3faa-4fd7-b890-c504418d98c5",
   "metadata": {},
   "outputs": [],
   "source": [
    "from rdkit import DataStructs\n",
    "tested_molecules = dataset_molecules.copy()\n",
    "PandasTools.AddMoleculeColumnToFrame(tested_molecules, smilesCol='SMILES')"
   ]
  },
  {
   "cell_type": "markdown",
   "id": "784d5bf7-efd2-4b35-8317-60c20fdaafd1",
   "metadata": {},
   "source": [
    "Divide molecules in Inhibitors and non-Inhibitors"
   ]
  },
  {
   "cell_type": "code",
   "execution_count": 64,
   "id": "5a8a2e86-e53e-4f4e-b53a-674b2ebe68cf",
   "metadata": {},
   "outputs": [
    {
     "name": "stdout",
     "output_type": "stream",
     "text": [
      "30.0% inhibitors present in known molecules\n"
     ]
    }
   ],
   "source": [
    "tested_molecules_pos = tested_molecules[tested_molecules['ALDH1_inhibition'] == 1]\n",
    "tested_molecules_neg = tested_molecules[tested_molecules['ALDH1_inhibition'] == 0]\n",
    "print(\"{}% inhibitors present in known molecules\".format(100*len(tested_molecules_pos)/len(tested_molecules)))"
   ]
  },
  {
   "cell_type": "markdown",
   "id": "e74a7d9c-5caf-4f23-ac3e-0e778bacb30b",
   "metadata": {},
   "source": [
    "Convert both sets to Morgan Fingerprints (to compare with)"
   ]
  },
  {
   "cell_type": "code",
   "execution_count": 65,
   "id": "021d7e50-15af-4e77-b0b1-a41b75008221",
   "metadata": {},
   "outputs": [],
   "source": [
    "from rdkit.Chem import AllChem\n",
    "bulk_pos = [AllChem.GetMorganFingerprintAsBitVect(x,2) for x in tested_molecules_pos['ROMol']]\n",
    "bulk_neg = [AllChem.GetMorganFingerprintAsBitVect(x,2) for x in tested_molecules_neg['ROMol']]\n",
    "len_pos = len(bulk_pos); len_neg = len(bulk_neg)"
   ]
  },
  {
   "cell_type": "markdown",
   "id": "853b7e97-4a92-4c82-bff3-403b2ed1c893",
   "metadata": {},
   "source": [
    "Get indices from pipeline prediction and select these indices from dataset_molecules.\n",
    "This must be done to retreive SMILES again, since these are needed for the comparison in the for loop"
   ]
  },
  {
   "cell_type": "code",
   "execution_count": 66,
   "id": "ae2b21dc-3eef-4340-9dcd-9226b297c6a0",
   "metadata": {},
   "outputs": [
    {
     "name": "stdout",
     "output_type": "stream",
     "text": [
      "134 possible inhibitors were seclected from pipeline\n"
     ]
    }
   ],
   "source": [
    "index_pipeline_positives = pipeline_positives.index\n",
    "pipeline_positives_mol = dataset_molecules.iloc[index_pipeline_positives]\n",
    "print(\"{} possible inhibitors were seclected from pipeline\".format(len(pipeline_positives_mol)))"
   ]
  },
  {
   "cell_type": "markdown",
   "id": "3a54e275-ab21-43c8-a41d-55aa8902d275",
   "metadata": {},
   "source": [
    "Calculate similarity with tested positives/negatives for every mol from pipeline_positives. Add the similarity to columns."
   ]
  },
  {
   "cell_type": "code",
   "execution_count": 67,
   "id": "492ce0f8-46e2-4eea-bbdb-9f97e32b9560",
   "metadata": {},
   "outputs": [
    {
     "data": {
      "text/html": [
       "<div>\n",
       "<style scoped>\n",
       "    .dataframe tbody tr th:only-of-type {\n",
       "        vertical-align: middle;\n",
       "    }\n",
       "\n",
       "    .dataframe tbody tr th {\n",
       "        vertical-align: top;\n",
       "    }\n",
       "\n",
       "    .dataframe thead th {\n",
       "        text-align: right;\n",
       "    }\n",
       "</style>\n",
       "<table border=\"1\" class=\"dataframe\">\n",
       "  <thead>\n",
       "    <tr style=\"text-align: right;\">\n",
       "      <th></th>\n",
       "      <th>SMILES</th>\n",
       "      <th>ALDH1_inhibition</th>\n",
       "      <th>ROMol</th>\n",
       "      <th>FROM DATASET</th>\n",
       "      <th>SIM_WITH_POSITIVE_SET</th>\n",
       "      <th>SIM_WITH_NEGATIVE_SET</th>\n",
       "    </tr>\n",
       "  </thead>\n",
       "  <tbody>\n",
       "    <tr>\n",
       "      <th>938</th>\n",
       "      <td>Cc1nc(O)nc(O)c1CSc1nnc([C@@H](NC(=O)OC(C)(C)C)...</td>\n",
       "      <td>0</td>\n",
       "      <td>&lt;rdkit.Chem.rdchem.Mol object at 0x000001FFC47...</td>\n",
       "      <td>0</td>\n",
       "      <td>0.092530</td>\n",
       "      <td>0.082123</td>\n",
       "    </tr>\n",
       "    <tr>\n",
       "      <th>1731</th>\n",
       "      <td>CC1CCCC(NC(=O)COC(=O)CC2CCCC2)C1C</td>\n",
       "      <td>1</td>\n",
       "      <td>&lt;rdkit.Chem.rdchem.Mol object at 0x000001FFC47...</td>\n",
       "      <td>1</td>\n",
       "      <td>0.102232</td>\n",
       "      <td>0.055427</td>\n",
       "    </tr>\n",
       "    <tr>\n",
       "      <th>65</th>\n",
       "      <td>CC(=O)NC(CC(C)C)C(=O)NC(=O)NCc1ccccc1</td>\n",
       "      <td>1</td>\n",
       "      <td>&lt;rdkit.Chem.rdchem.Mol object at 0x000001FFC47...</td>\n",
       "      <td>0</td>\n",
       "      <td>0.130870</td>\n",
       "      <td>0.120371</td>\n",
       "    </tr>\n",
       "    <tr>\n",
       "      <th>584</th>\n",
       "      <td>COc1ccc(CN2C(=O)/C(=C\\Nc3ccc(C)cc3)c3ccccc3C2=...</td>\n",
       "      <td>0</td>\n",
       "      <td>&lt;rdkit.Chem.rdchem.Mol object at 0x000001FFC47...</td>\n",
       "      <td>0</td>\n",
       "      <td>0.135867</td>\n",
       "      <td>0.118938</td>\n",
       "    </tr>\n",
       "    <tr>\n",
       "      <th>674</th>\n",
       "      <td>Cc1cc(C)c(NC(=O)CN2C(=O)NC3(CCOc4ccccc43)C2=O)...</td>\n",
       "      <td>0</td>\n",
       "      <td>&lt;rdkit.Chem.rdchem.Mol object at 0x000001FFC47...</td>\n",
       "      <td>0</td>\n",
       "      <td>0.145019</td>\n",
       "      <td>0.116876</td>\n",
       "    </tr>\n",
       "  </tbody>\n",
       "</table>\n",
       "</div>"
      ],
      "text/plain": [
       "                                                 SMILES  ALDH1_inhibition  \\\n",
       "938   Cc1nc(O)nc(O)c1CSc1nnc([C@@H](NC(=O)OC(C)(C)C)...                 0   \n",
       "1731                  CC1CCCC(NC(=O)COC(=O)CC2CCCC2)C1C                 1   \n",
       "65                CC(=O)NC(CC(C)C)C(=O)NC(=O)NCc1ccccc1                 1   \n",
       "584   COc1ccc(CN2C(=O)/C(=C\\Nc3ccc(C)cc3)c3ccccc3C2=...                 0   \n",
       "674   Cc1cc(C)c(NC(=O)CN2C(=O)NC3(CCOc4ccccc43)C2=O)...                 0   \n",
       "\n",
       "                                                  ROMol  FROM DATASET  \\\n",
       "938   <rdkit.Chem.rdchem.Mol object at 0x000001FFC47...             0   \n",
       "1731  <rdkit.Chem.rdchem.Mol object at 0x000001FFC47...             1   \n",
       "65    <rdkit.Chem.rdchem.Mol object at 0x000001FFC47...             0   \n",
       "584   <rdkit.Chem.rdchem.Mol object at 0x000001FFC47...             0   \n",
       "674   <rdkit.Chem.rdchem.Mol object at 0x000001FFC47...             0   \n",
       "\n",
       "      SIM_WITH_POSITIVE_SET  SIM_WITH_NEGATIVE_SET  \n",
       "938                0.092530               0.082123  \n",
       "1731               0.102232               0.055427  \n",
       "65                 0.130870               0.120371  \n",
       "584                0.135867               0.118938  \n",
       "674                0.145019               0.116876  "
      ]
     },
     "execution_count": 67,
     "metadata": {},
     "output_type": "execute_result"
    }
   ],
   "source": [
    "pipeline_positives_mol_copy = pipeline_positives_mol.copy(deep=False)\n",
    "# Loop all rows from test set\n",
    "for index, row in pipeline_positives_mol.iterrows():     \n",
    "    test_smiles = row['SMILES']\n",
    "    # Make allchem MolFrom the SMILES and convert it into to GetMorganFingerprintAsBitVec\n",
    "    test_mol = AllChem.MolFromSmiles(test_smiles)\n",
    "    ref_fps = AllChem.GetMorganFingerprintAsBitVect(test_mol,2)\n",
    "    # Calculate similarities with positives and negative\n",
    "    similarity_pos = [DataStructs.FingerprintSimilarity(ref_fps,x) for x in bulk_pos]\n",
    "    similarity_neg = [DataStructs.FingerprintSimilarity(ref_fps,x) for x in bulk_neg]\n",
    "    # Add all positive and negative similarities and normalize\n",
    "    rel_sum_pos = sum(similarity_pos)/len_pos # divide by sizes to normalize the result\n",
    "    rel_sum_neg = sum(similarity_neg)/len_neg # divide by sizes to normalize the result\n",
    "    \n",
    "    pipeline_positives_mol_copy.loc[index, ['SIM_WITH_POSITIVE_SET']] = rel_sum_pos\n",
    "    pipeline_positives_mol_copy.loc[index, ['SIM_WITH_NEGATIVE_SET']] = rel_sum_neg   \n",
    "\n",
    "pipeline_positives_mol_copy.head()"
   ]
  },
  {
   "cell_type": "markdown",
   "id": "13224d09-bf96-40dd-8db3-d0780dbcddd8",
   "metadata": {},
   "source": [
    "Since we know the real ALDH1_inibition, we can calculate the number of false positives from the prediction"
   ]
  },
  {
   "cell_type": "code",
   "execution_count": 68,
   "id": "346e213d-d7ae-4662-8f84-7b5745574ca6",
   "metadata": {},
   "outputs": [
    {
     "name": "stdout",
     "output_type": "stream",
     "text": [
      "134 predicted positives from pipeline. 50.0% false. \n"
     ]
    }
   ],
   "source": [
    "false_positives = pipeline_positives_mol_copy[pipeline_positives_mol_copy['ALDH1_inhibition'] == 0]\n",
    "print(\"{:d} predicted positives from pipeline. {:.1f}% false. \".format(len(pipeline_positives_mol_copy),100*len(false_positives)/len(pipeline_positives_mol_copy)))"
   ]
  },
  {
   "cell_type": "markdown",
   "id": "1dfe7a49-d597-400e-a68d-d20f4f445621",
   "metadata": {},
   "source": [
    "First selection, based on similarity: Only select molecules with larger similarity with positives than with negatives"
   ]
  },
  {
   "cell_type": "code",
   "execution_count": 69,
   "id": "8fe386d4-6f49-498c-ae5b-ef06a4e535a6",
   "metadata": {},
   "outputs": [
    {
     "name": "stdout",
     "output_type": "stream",
     "text": [
      "116 predicted positives after first selection. 44.0% false positive. \n"
     ]
    }
   ],
   "source": [
    "selection = pipeline_positives_mol_copy[pipeline_positives_mol_copy['SIM_WITH_POSITIVE_SET'] > pipeline_positives_mol_copy['SIM_WITH_NEGATIVE_SET']]\n",
    "false_positives = selection[selection['ALDH1_inhibition']==0]\n",
    "print(\"{:d} predicted positives after first selection. {:.1f}% false positive. \".format(len(selection),100*len(false_positives)/len(selection)))"
   ]
  },
  {
   "cell_type": "markdown",
   "id": "d2069450-8548-4877-8ad9-5bee52f94488",
   "metadata": {},
   "source": [
    "Second selection: Sort the selection by similarity with positives and pick the first 100 molecules"
   ]
  },
  {
   "cell_type": "code",
   "execution_count": 70,
   "id": "0b9b4c3b-7ad2-4614-820d-1bf5f23cdd0d",
   "metadata": {},
   "outputs": [
    {
     "name": "stdout",
     "output_type": "stream",
     "text": [
      "100 predicted positives after second selection. 42.0% false positive. \n"
     ]
    }
   ],
   "source": [
    "selection_copy = selection.copy()\n",
    "selection_copy = selection_copy.sort_values(by=['SIM_WITH_POSITIVE_SET'], ascending=False);\n",
    "selection_copy = selection_copy.iloc[0:100]\n",
    "false_positives = selection_copy[selection_copy['ALDH1_inhibition']==0]\n",
    "print(\"{:d} predicted positives after second selection. {:.1f}% false positive. \".format(len(selection_copy),100*len(false_positives)/len(selection_copy)))"
   ]
  },
  {
   "cell_type": "markdown",
   "id": "60cdbc64-ae41-4745-9c93-ffd4fc475481",
   "metadata": {},
   "source": [
    "# 4 Do the trick on unknown molecules"
   ]
  },
  {
   "cell_type": "markdown",
   "id": "b71d4700-8779-48a3-9309-eb1f45e20f15",
   "metadata": {},
   "source": [
    "Load all untested molecules"
   ]
  },
  {
   "cell_type": "code",
   "execution_count": 21,
   "id": "3f9c46c6-a4d2-4a50-93ba-fc714091ef69",
   "metadata": {},
   "outputs": [
    {
     "name": "stdout",
     "output_type": "stream",
     "text": [
      "<class 'pandas.core.frame.DataFrame'>\n",
      "RangeIndex: 10000 entries, 0 to 9999\n",
      "Data columns (total 2 columns):\n",
      " #   Column  Non-Null Count  Dtype \n",
      "---  ------  --------------  ----- \n",
      " 0   SMILES  10000 non-null  object\n",
      " 1   ROMol   10000 non-null  object\n",
      "dtypes: object(2)\n",
      "memory usage: 156.4+ KB\n"
     ]
    }
   ],
   "source": [
    "unknown_molecules = pd.read_csv(os.path.join(os.getcwd(), \"untested_molecules.csv\"))\n",
    "PandasTools.AddMoleculeColumnToFrame(unknown_molecules, smilesCol='SMILES')\n",
    "unknown_molecules.info()"
   ]
  },
  {
   "cell_type": "markdown",
   "id": "5a25505d-a4d2-44bc-b02d-a069bd05eb9c",
   "metadata": {},
   "source": [
    "Add all molecular descriptor and calculate them to a pd DataFrame dataset_descriptors.\n",
    "This time we only used the selected labels to avoid long computational time."
   ]
  },
  {
   "cell_type": "code",
   "execution_count": 22,
   "id": "72a190cd-7247-4b33-971e-84ed9c896b0e",
   "metadata": {},
   "outputs": [],
   "source": [
    "#descriptors_labels = [n[0] for n in Descriptors._descList[:]]\n",
    "good_descriptors_labels = ['MaxAbsEStateIndex',\n",
    " 'MinAbsEStateIndex',\n",
    " 'MinEStateIndex',\n",
    " 'BCUT2D_CHGHI',\n",
    " 'BCUT2D_CHGLO',\n",
    " 'BCUT2D_LOGPLOW',\n",
    " 'BCUT2D_MRLOW',\n",
    " 'SMR_VSA1',\n",
    " 'SMR_VSA5',\n",
    " 'SlogP_VSA2',\n",
    " 'EState_VSA10',\n",
    " 'VSA_EState2',\n",
    " 'FractionCSP3',\n",
    " 'NumAliphaticRings']"
   ]
  },
  {
   "cell_type": "code",
   "execution_count": 23,
   "id": "714b1164-7715-4d9f-a6a9-a9e7e8ad2b05",
   "metadata": {},
   "outputs": [],
   "source": [
    "calc = MoleculeDescriptors.MolecularDescriptorCalculator(good_descriptors_labels)\n",
    "rdkit_desc_unknown_molecules = [calc.CalcDescriptors(m) for m in unknown_molecules[\"ROMol\"]]\n",
    "dataset_descriptors_unknown_molecules = pd.DataFrame(rdkit_desc_unknown_molecules, columns=[good_descriptors_labels])"
   ]
  },
  {
   "cell_type": "markdown",
   "id": "a9c9dac6-b0dc-42cf-958c-5abdcbda7f51",
   "metadata": {},
   "source": [
    "Instantiate test(unknown molecules) and train(known molecules) set"
   ]
  },
  {
   "cell_type": "code",
   "execution_count": 24,
   "id": "4b0d5d2d-6307-4b9a-ae58-37dee09cfd5f",
   "metadata": {},
   "outputs": [],
   "source": [
    "X_train = dataset_descriptors\n",
    "y_train = dataset_molecules['ALDH1_inhibition']\n",
    "X_test = dataset_descriptors_unknown_molecules\n",
    "r = X_test.shape[0]*[0]\n",
    "y_test = pd.Series(r, copy=False)"
   ]
  },
  {
   "cell_type": "markdown",
   "id": "fe982005-99ca-4ced-9b64-f33af77cf987",
   "metadata": {},
   "source": [
    "### Introducing a Pipeline with minmax scaler and Desciscion tree."
   ]
  },
  {
   "cell_type": "code",
   "execution_count": 25,
   "id": "af179c91-dd2e-4f86-b196-42a221108b3c",
   "metadata": {},
   "outputs": [
    {
     "name": "stdout",
     "output_type": "stream",
     "text": [
      "Cross score:\n",
      "[0.575 0.635 0.54  0.52  0.55  0.76  0.795 0.855 0.855 0.795]\n",
      "score:\n",
      "0.5979\n"
     ]
    }
   ],
   "source": [
    "scaler = pp.MinMaxScaler()\n",
    "pca = PCA()\n",
    "dtree = tree.DecisionTreeClassifier(max_features=None, max_depth=None, max_leaf_nodes=None)\n",
    "\n",
    "pipeline = pl.Pipeline(steps=[(\"sc\", scaler), (\"pca\", pca), (\"dtreeCLF\", dtree)])\n",
    "cross_score = cross_val_score(pipeline, X_train, y_train, cv=10)\n",
    "print(\"Cross score:\") \n",
    "print(cross_score)\n",
    "pipeline.fit(X_train, y_train)\n",
    "print(\"score:\")\n",
    "print(pipeline.score(X_test, y_test))"
   ]
  },
  {
   "cell_type": "markdown",
   "id": "0e476d58-6317-4914-8a18-cd9c0b6cd822",
   "metadata": {},
   "source": [
    "### Creating a physical tree"
   ]
  },
  {
   "cell_type": "code",
   "execution_count": 26,
   "id": "22e04a25-4527-4458-bc40-295e1f4efbd9",
   "metadata": {},
   "outputs": [],
   "source": [
    "#dot_data = tree.export_graphviz(dtree, out_file=None, feature_names=dataset_descriptors.columns, class_names=['1', '0'])\n",
    "#graph = graphviz.Source(dot_data) \n",
    "#graph.render(\"descision_tree\") "
   ]
  },
  {
   "cell_type": "markdown",
   "id": "c229045a-3606-42b2-be91-cfdbe134f624",
   "metadata": {},
   "source": [
    "### Prediction"
   ]
  },
  {
   "cell_type": "code",
   "execution_count": 27,
   "id": "021459f6-b0d3-48b9-9c23-1ff5557752d6",
   "metadata": {},
   "outputs": [],
   "source": [
    "y_true = y_test\n",
    "y_pred = pipeline.predict(X_test)"
   ]
  },
  {
   "cell_type": "code",
   "execution_count": null,
   "id": "e776a8e9-0746-4388-b1b1-6b278f464e7d",
   "metadata": {},
   "outputs": [],
   "source": []
  },
  {
   "cell_type": "markdown",
   "id": "0e05cfba-6edc-4a43-9980-c6363816d912",
   "metadata": {},
   "source": [
    "This code calculates further on X_test\n",
    "A selection of 100 molecules is made, based on the selection from pipeline + further reduction by similarity analysis of the selected molecules with the known ALDH1-positives (and negatives)\n",
    "Can be appended to Constantijns pipeline.\n",
    "Als er problemen zijn laat maar weten."
   ]
  },
  {
   "cell_type": "markdown",
   "id": "3741f4da-ef0a-48a0-9aa0-d137efcad1b8",
   "metadata": {},
   "source": [
    "## Further processing of the selection"
   ]
  },
  {
   "cell_type": "markdown",
   "id": "8ca76e60-10e6-4b45-8358-d8c11a676e8a",
   "metadata": {},
   "source": [
    "Create new datafame from X_test. Append values for 'ALDH1_inhibition' and 'predicted'"
   ]
  },
  {
   "cell_type": "code",
   "execution_count": 28,
   "id": "ef3bd1e4-1952-4f07-b5ee-3097fa7c5b8e",
   "metadata": {},
   "outputs": [
    {
     "data": {
      "text/html": [
       "<div>\n",
       "<style scoped>\n",
       "    .dataframe tbody tr th:only-of-type {\n",
       "        vertical-align: middle;\n",
       "    }\n",
       "\n",
       "    .dataframe tbody tr th {\n",
       "        vertical-align: top;\n",
       "    }\n",
       "\n",
       "    .dataframe thead tr th {\n",
       "        text-align: left;\n",
       "    }\n",
       "</style>\n",
       "<table border=\"1\" class=\"dataframe\">\n",
       "  <thead>\n",
       "    <tr>\n",
       "      <th></th>\n",
       "      <th>MaxAbsEStateIndex</th>\n",
       "      <th>MinAbsEStateIndex</th>\n",
       "      <th>MinEStateIndex</th>\n",
       "      <th>BCUT2D_CHGHI</th>\n",
       "      <th>BCUT2D_CHGLO</th>\n",
       "      <th>BCUT2D_LOGPLOW</th>\n",
       "      <th>BCUT2D_MRLOW</th>\n",
       "      <th>SMR_VSA1</th>\n",
       "      <th>SMR_VSA5</th>\n",
       "      <th>SlogP_VSA2</th>\n",
       "      <th>EState_VSA10</th>\n",
       "      <th>VSA_EState2</th>\n",
       "      <th>FractionCSP3</th>\n",
       "      <th>NumAliphaticRings</th>\n",
       "      <th>predicted</th>\n",
       "    </tr>\n",
       "  </thead>\n",
       "  <tbody>\n",
       "    <tr>\n",
       "      <th>0</th>\n",
       "      <td>12.089288</td>\n",
       "      <td>0.112255</td>\n",
       "      <td>-0.251126</td>\n",
       "      <td>2.080331</td>\n",
       "      <td>-2.078497</td>\n",
       "      <td>-2.257675</td>\n",
       "      <td>-0.126034</td>\n",
       "      <td>9.589074</td>\n",
       "      <td>51.993423</td>\n",
       "      <td>17.526044</td>\n",
       "      <td>9.589074</td>\n",
       "      <td>24.017196</td>\n",
       "      <td>0.347826</td>\n",
       "      <td>0</td>\n",
       "      <td>1</td>\n",
       "    </tr>\n",
       "    <tr>\n",
       "      <th>1</th>\n",
       "      <td>12.797328</td>\n",
       "      <td>0.238255</td>\n",
       "      <td>-3.572690</td>\n",
       "      <td>2.332267</td>\n",
       "      <td>-2.298232</td>\n",
       "      <td>-2.409391</td>\n",
       "      <td>-0.152691</td>\n",
       "      <td>22.743734</td>\n",
       "      <td>31.081686</td>\n",
       "      <td>50.840649</td>\n",
       "      <td>18.006871</td>\n",
       "      <td>26.898653</td>\n",
       "      <td>0.391304</td>\n",
       "      <td>2</td>\n",
       "      <td>1</td>\n",
       "    </tr>\n",
       "    <tr>\n",
       "      <th>2</th>\n",
       "      <td>12.973159</td>\n",
       "      <td>0.116476</td>\n",
       "      <td>-0.893827</td>\n",
       "      <td>2.418534</td>\n",
       "      <td>-2.162707</td>\n",
       "      <td>-2.347503</td>\n",
       "      <td>-0.383654</td>\n",
       "      <td>23.639663</td>\n",
       "      <td>12.462662</td>\n",
       "      <td>29.889309</td>\n",
       "      <td>24.093808</td>\n",
       "      <td>36.375093</td>\n",
       "      <td>0.176471</td>\n",
       "      <td>1</td>\n",
       "      <td>1</td>\n",
       "    </tr>\n",
       "    <tr>\n",
       "      <th>3</th>\n",
       "      <td>11.709157</td>\n",
       "      <td>0.004405</td>\n",
       "      <td>-0.628881</td>\n",
       "      <td>2.099290</td>\n",
       "      <td>-2.057211</td>\n",
       "      <td>-2.757900</td>\n",
       "      <td>-0.724720</td>\n",
       "      <td>24.448012</td>\n",
       "      <td>20.268296</td>\n",
       "      <td>23.335118</td>\n",
       "      <td>14.908855</td>\n",
       "      <td>26.672699</td>\n",
       "      <td>0.222222</td>\n",
       "      <td>0</td>\n",
       "      <td>1</td>\n",
       "    </tr>\n",
       "    <tr>\n",
       "      <th>4</th>\n",
       "      <td>12.580327</td>\n",
       "      <td>0.039856</td>\n",
       "      <td>-4.469682</td>\n",
       "      <td>2.318223</td>\n",
       "      <td>-2.297318</td>\n",
       "      <td>-2.329215</td>\n",
       "      <td>-0.137383</td>\n",
       "      <td>17.965782</td>\n",
       "      <td>19.017942</td>\n",
       "      <td>23.980671</td>\n",
       "      <td>17.965782</td>\n",
       "      <td>16.768607</td>\n",
       "      <td>0.384615</td>\n",
       "      <td>1</td>\n",
       "      <td>1</td>\n",
       "    </tr>\n",
       "    <tr>\n",
       "      <th>...</th>\n",
       "      <td>...</td>\n",
       "      <td>...</td>\n",
       "      <td>...</td>\n",
       "      <td>...</td>\n",
       "      <td>...</td>\n",
       "      <td>...</td>\n",
       "      <td>...</td>\n",
       "      <td>...</td>\n",
       "      <td>...</td>\n",
       "      <td>...</td>\n",
       "      <td>...</td>\n",
       "      <td>...</td>\n",
       "      <td>...</td>\n",
       "      <td>...</td>\n",
       "      <td>...</td>\n",
       "    </tr>\n",
       "    <tr>\n",
       "      <th>9977</th>\n",
       "      <td>11.837918</td>\n",
       "      <td>0.121939</td>\n",
       "      <td>-0.121939</td>\n",
       "      <td>2.047350</td>\n",
       "      <td>-2.051538</td>\n",
       "      <td>-2.226215</td>\n",
       "      <td>0.095014</td>\n",
       "      <td>9.531400</td>\n",
       "      <td>6.544756</td>\n",
       "      <td>18.000956</td>\n",
       "      <td>4.794537</td>\n",
       "      <td>15.974941</td>\n",
       "      <td>0.142857</td>\n",
       "      <td>0</td>\n",
       "      <td>1</td>\n",
       "    </tr>\n",
       "    <tr>\n",
       "      <th>9982</th>\n",
       "      <td>12.079166</td>\n",
       "      <td>0.093121</td>\n",
       "      <td>-0.525435</td>\n",
       "      <td>2.180273</td>\n",
       "      <td>-2.102721</td>\n",
       "      <td>-2.151036</td>\n",
       "      <td>-0.385361</td>\n",
       "      <td>14.454711</td>\n",
       "      <td>19.003911</td>\n",
       "      <td>33.661099</td>\n",
       "      <td>14.908855</td>\n",
       "      <td>30.804356</td>\n",
       "      <td>0.266667</td>\n",
       "      <td>0</td>\n",
       "      <td>1</td>\n",
       "    </tr>\n",
       "    <tr>\n",
       "      <th>9983</th>\n",
       "      <td>12.286560</td>\n",
       "      <td>0.009186</td>\n",
       "      <td>-3.746215</td>\n",
       "      <td>2.399575</td>\n",
       "      <td>-2.149621</td>\n",
       "      <td>-2.333638</td>\n",
       "      <td>0.085681</td>\n",
       "      <td>17.949197</td>\n",
       "      <td>4.895483</td>\n",
       "      <td>31.781831</td>\n",
       "      <td>13.212334</td>\n",
       "      <td>12.210482</td>\n",
       "      <td>0.133333</td>\n",
       "      <td>1</td>\n",
       "      <td>1</td>\n",
       "    </tr>\n",
       "    <tr>\n",
       "      <th>9991</th>\n",
       "      <td>12.705510</td>\n",
       "      <td>0.134945</td>\n",
       "      <td>-0.334667</td>\n",
       "      <td>2.273012</td>\n",
       "      <td>-2.338748</td>\n",
       "      <td>-2.503361</td>\n",
       "      <td>0.056719</td>\n",
       "      <td>23.799663</td>\n",
       "      <td>6.923737</td>\n",
       "      <td>68.805742</td>\n",
       "      <td>9.589074</td>\n",
       "      <td>27.706440</td>\n",
       "      <td>0.500000</td>\n",
       "      <td>1</td>\n",
       "      <td>1</td>\n",
       "    </tr>\n",
       "    <tr>\n",
       "      <th>9994</th>\n",
       "      <td>5.264541</td>\n",
       "      <td>0.357127</td>\n",
       "      <td>0.357127</td>\n",
       "      <td>2.292612</td>\n",
       "      <td>-2.335699</td>\n",
       "      <td>-2.381726</td>\n",
       "      <td>0.273516</td>\n",
       "      <td>0.000000</td>\n",
       "      <td>77.676710</td>\n",
       "      <td>16.865963</td>\n",
       "      <td>0.000000</td>\n",
       "      <td>0.000000</td>\n",
       "      <td>0.875000</td>\n",
       "      <td>2</td>\n",
       "      <td>1</td>\n",
       "    </tr>\n",
       "  </tbody>\n",
       "</table>\n",
       "<p>4021 rows × 15 columns</p>\n",
       "</div>"
      ],
      "text/plain": [
       "     MaxAbsEStateIndex MinAbsEStateIndex MinEStateIndex BCUT2D_CHGHI  \\\n",
       "0            12.089288          0.112255      -0.251126     2.080331   \n",
       "1            12.797328          0.238255      -3.572690     2.332267   \n",
       "2            12.973159          0.116476      -0.893827     2.418534   \n",
       "3            11.709157          0.004405      -0.628881     2.099290   \n",
       "4            12.580327          0.039856      -4.469682     2.318223   \n",
       "...                ...               ...            ...          ...   \n",
       "9977         11.837918          0.121939      -0.121939     2.047350   \n",
       "9982         12.079166          0.093121      -0.525435     2.180273   \n",
       "9983         12.286560          0.009186      -3.746215     2.399575   \n",
       "9991         12.705510          0.134945      -0.334667     2.273012   \n",
       "9994          5.264541          0.357127       0.357127     2.292612   \n",
       "\n",
       "     BCUT2D_CHGLO BCUT2D_LOGPLOW BCUT2D_MRLOW   SMR_VSA1   SMR_VSA5  \\\n",
       "0       -2.078497      -2.257675    -0.126034   9.589074  51.993423   \n",
       "1       -2.298232      -2.409391    -0.152691  22.743734  31.081686   \n",
       "2       -2.162707      -2.347503    -0.383654  23.639663  12.462662   \n",
       "3       -2.057211      -2.757900    -0.724720  24.448012  20.268296   \n",
       "4       -2.297318      -2.329215    -0.137383  17.965782  19.017942   \n",
       "...           ...            ...          ...        ...        ...   \n",
       "9977    -2.051538      -2.226215     0.095014   9.531400   6.544756   \n",
       "9982    -2.102721      -2.151036    -0.385361  14.454711  19.003911   \n",
       "9983    -2.149621      -2.333638     0.085681  17.949197   4.895483   \n",
       "9991    -2.338748      -2.503361     0.056719  23.799663   6.923737   \n",
       "9994    -2.335699      -2.381726     0.273516   0.000000  77.676710   \n",
       "\n",
       "     SlogP_VSA2 EState_VSA10 VSA_EState2 FractionCSP3 NumAliphaticRings  \\\n",
       "0     17.526044     9.589074   24.017196     0.347826                 0   \n",
       "1     50.840649    18.006871   26.898653     0.391304                 2   \n",
       "2     29.889309    24.093808   36.375093     0.176471                 1   \n",
       "3     23.335118    14.908855   26.672699     0.222222                 0   \n",
       "4     23.980671    17.965782   16.768607     0.384615                 1   \n",
       "...         ...          ...         ...          ...               ...   \n",
       "9977  18.000956     4.794537   15.974941     0.142857                 0   \n",
       "9982  33.661099    14.908855   30.804356     0.266667                 0   \n",
       "9983  31.781831    13.212334   12.210482     0.133333                 1   \n",
       "9991  68.805742     9.589074   27.706440     0.500000                 1   \n",
       "9994  16.865963     0.000000    0.000000     0.875000                 2   \n",
       "\n",
       "     predicted  \n",
       "0            1  \n",
       "1            1  \n",
       "2            1  \n",
       "3            1  \n",
       "4            1  \n",
       "...        ...  \n",
       "9977         1  \n",
       "9982         1  \n",
       "9983         1  \n",
       "9991         1  \n",
       "9994         1  \n",
       "\n",
       "[4021 rows x 15 columns]"
      ]
     },
     "execution_count": 28,
     "metadata": {},
     "output_type": "execute_result"
    }
   ],
   "source": [
    "pipeline_results = X_test.copy()\n",
    "pipeline_results['predicted'] = y_pred\n",
    "pipeline_results.head()\n",
    "pipeline_results[pipeline_results['predicted'].values != 0]"
   ]
  },
  {
   "cell_type": "markdown",
   "id": "55553e33-6801-4818-986f-745729cc5598",
   "metadata": {},
   "source": [
    "Select only the predicted positives"
   ]
  },
  {
   "cell_type": "code",
   "execution_count": 29,
   "id": "2e7ba344-c587-407a-af82-6c563373f8d0",
   "metadata": {},
   "outputs": [
    {
     "name": "stdout",
     "output_type": "stream",
     "text": [
      "4021 positives from pipeline\n"
     ]
    }
   ],
   "source": [
    "pipeline_positives = pipeline_results[pipeline_results['predicted'].values == 1]\n",
    "print(\"{} positives from pipeline\".format(pipeline_positives.shape[0]))"
   ]
  },
  {
   "cell_type": "markdown",
   "id": "be63e0ff-b926-46ba-8015-e0915725b8c4",
   "metadata": {},
   "source": [
    "## Further Selection with Tanamoto similarity"
   ]
  },
  {
   "cell_type": "markdown",
   "id": "266164c0-ba79-43d5-a118-e8ff804dfd70",
   "metadata": {},
   "source": [
    "Load all known molecules in frame. Now for the whole set of molecules"
   ]
  },
  {
   "cell_type": "code",
   "execution_count": 30,
   "id": "fd81afee-aab3-4be9-97ad-2271e9651ca3",
   "metadata": {},
   "outputs": [],
   "source": [
    "from rdkit import DataStructs\n",
    "tested_molecules = dataset_molecules.copy()\n",
    "PandasTools.AddMoleculeColumnToFrame(tested_molecules, smilesCol='SMILES')"
   ]
  },
  {
   "cell_type": "markdown",
   "id": "8ba8a388-d4c6-4be6-a6a5-60cdf38e6381",
   "metadata": {},
   "source": [
    "Divide molecules in Inhibitors and non-Inhibitors"
   ]
  },
  {
   "cell_type": "code",
   "execution_count": 31,
   "id": "fc734ffc-ff1b-44f1-a662-db0ee88abd08",
   "metadata": {},
   "outputs": [
    {
     "name": "stdout",
     "output_type": "stream",
     "text": [
      "30.0% inhibitors present in known molecules\n"
     ]
    }
   ],
   "source": [
    "tested_molecules_pos = tested_molecules[tested_molecules['ALDH1_inhibition'] == 1]\n",
    "tested_molecules_neg = tested_molecules[tested_molecules['ALDH1_inhibition'] == 0]\n",
    "print(\"{}% inhibitors present in known molecules\".format(100*len(tested_molecules_pos)/len(tested_molecules)))"
   ]
  },
  {
   "cell_type": "markdown",
   "id": "924d1adf-94cf-4525-baef-46e648a43eb6",
   "metadata": {},
   "source": [
    "Convert both sets to Morgan Fingerprints (to compare with)"
   ]
  },
  {
   "cell_type": "code",
   "execution_count": 32,
   "id": "8dab24b8-2582-4f76-be04-b6e195fffa91",
   "metadata": {
    "tags": []
   },
   "outputs": [],
   "source": [
    "from rdkit.Chem import AllChem\n",
    "bulk_pos = [AllChem.GetMorganFingerprintAsBitVect(x,2) for x in tested_molecules_pos['ROMol']]\n",
    "bulk_neg = [AllChem.GetMorganFingerprintAsBitVect(x,2) for x in tested_molecules_neg['ROMol']]\n",
    "len_pos = len(bulk_pos); len_neg = len(bulk_neg)"
   ]
  },
  {
   "cell_type": "markdown",
   "id": "2c591c33-f7af-4d36-bd6a-2b98eb22ebf2",
   "metadata": {},
   "source": [
    "Get indices from pipeline prediction and select these indices from dataset_molecules.\n",
    "This must be done to retreive SMILES again, since these are needed for the comparison in the for loop"
   ]
  },
  {
   "cell_type": "code",
   "execution_count": 33,
   "id": "02830c3f-b87a-48f7-91e8-337bdbace10a",
   "metadata": {},
   "outputs": [
    {
     "name": "stdout",
     "output_type": "stream",
     "text": [
      "4021 positive molecules from pipeline\n"
     ]
    }
   ],
   "source": [
    "index_pipeline_positives = pipeline_positives.index\n",
    "pipeline_positives_mol = unknown_molecules.iloc[index_pipeline_positives]\n",
    "print(\"{} positive molecules from pipeline\".format(len(pipeline_positives_mol)))"
   ]
  },
  {
   "cell_type": "markdown",
   "id": "29e21108-53cb-4b88-9bbe-c652a7d51238",
   "metadata": {},
   "source": [
    "Calculate similarity with tested positives/negatives for every mol from pipeline_positives"
   ]
  },
  {
   "cell_type": "code",
   "execution_count": 34,
   "id": "2a258600-c48a-4ec6-adc6-5d37fb18e9f8",
   "metadata": {},
   "outputs": [
    {
     "data": {
      "text/html": [
       "<div>\n",
       "<style scoped>\n",
       "    .dataframe tbody tr th:only-of-type {\n",
       "        vertical-align: middle;\n",
       "    }\n",
       "\n",
       "    .dataframe tbody tr th {\n",
       "        vertical-align: top;\n",
       "    }\n",
       "\n",
       "    .dataframe thead th {\n",
       "        text-align: right;\n",
       "    }\n",
       "</style>\n",
       "<table border=\"1\" class=\"dataframe\">\n",
       "  <thead>\n",
       "    <tr style=\"text-align: right;\">\n",
       "      <th></th>\n",
       "      <th>SMILES</th>\n",
       "      <th>ROMol</th>\n",
       "      <th>SIM_WITH_POSITIVE_SET</th>\n",
       "      <th>SIM_WITH_NEGATIVE_SET</th>\n",
       "    </tr>\n",
       "  </thead>\n",
       "  <tbody>\n",
       "    <tr>\n",
       "      <th>0</th>\n",
       "      <td>CCCCC/C(=N\\NC(=O)CCC(=O)NCc1ccccc1)c1ccccc1</td>\n",
       "      <td>&lt;rdkit.Chem.rdchem.Mol object at 0x000001FFAF2...</td>\n",
       "      <td>0.134472</td>\n",
       "      <td>0.119836</td>\n",
       "    </tr>\n",
       "    <tr>\n",
       "      <th>1</th>\n",
       "      <td>Cc1ccc(S(=O)(=O)N2CCC(C(=O)OCC(=O)N3CCc4ccccc4...</td>\n",
       "      <td>&lt;rdkit.Chem.rdchem.Mol object at 0x000001FFAF2...</td>\n",
       "      <td>0.154441</td>\n",
       "      <td>0.107367</td>\n",
       "    </tr>\n",
       "    <tr>\n",
       "      <th>2</th>\n",
       "      <td>COc1ccc(N2C(=O)CC(Nc3ccc(F)cc3)C2=O)c([N+](=O)...</td>\n",
       "      <td>&lt;rdkit.Chem.rdchem.Mol object at 0x000001FFAF2...</td>\n",
       "      <td>0.125733</td>\n",
       "      <td>0.091493</td>\n",
       "    </tr>\n",
       "    <tr>\n",
       "      <th>3</th>\n",
       "      <td>Cc1cc(C)cc(OCC(=O)O[NH+]=C(N)Cc2ccc([N+](=O)[O...</td>\n",
       "      <td>&lt;rdkit.Chem.rdchem.Mol object at 0x000001FFAF2...</td>\n",
       "      <td>0.127386</td>\n",
       "      <td>0.101580</td>\n",
       "    </tr>\n",
       "    <tr>\n",
       "      <th>4</th>\n",
       "      <td>NNC(=O)C=C1CCN(c2ncc(C(F)(F)F)cc2Cl)CC1</td>\n",
       "      <td>&lt;rdkit.Chem.rdchem.Mol object at 0x000001FFAF2...</td>\n",
       "      <td>0.106596</td>\n",
       "      <td>0.095824</td>\n",
       "    </tr>\n",
       "  </tbody>\n",
       "</table>\n",
       "</div>"
      ],
      "text/plain": [
       "                                              SMILES  \\\n",
       "0        CCCCC/C(=N\\NC(=O)CCC(=O)NCc1ccccc1)c1ccccc1   \n",
       "1  Cc1ccc(S(=O)(=O)N2CCC(C(=O)OCC(=O)N3CCc4ccccc4...   \n",
       "2  COc1ccc(N2C(=O)CC(Nc3ccc(F)cc3)C2=O)c([N+](=O)...   \n",
       "3  Cc1cc(C)cc(OCC(=O)O[NH+]=C(N)Cc2ccc([N+](=O)[O...   \n",
       "4            NNC(=O)C=C1CCN(c2ncc(C(F)(F)F)cc2Cl)CC1   \n",
       "\n",
       "                                               ROMol  SIM_WITH_POSITIVE_SET  \\\n",
       "0  <rdkit.Chem.rdchem.Mol object at 0x000001FFAF2...               0.134472   \n",
       "1  <rdkit.Chem.rdchem.Mol object at 0x000001FFAF2...               0.154441   \n",
       "2  <rdkit.Chem.rdchem.Mol object at 0x000001FFAF2...               0.125733   \n",
       "3  <rdkit.Chem.rdchem.Mol object at 0x000001FFAF2...               0.127386   \n",
       "4  <rdkit.Chem.rdchem.Mol object at 0x000001FFAF2...               0.106596   \n",
       "\n",
       "   SIM_WITH_NEGATIVE_SET  \n",
       "0               0.119836  \n",
       "1               0.107367  \n",
       "2               0.091493  \n",
       "3               0.101580  \n",
       "4               0.095824  "
      ]
     },
     "execution_count": 34,
     "metadata": {},
     "output_type": "execute_result"
    }
   ],
   "source": [
    "pipeline_positives_mol_copy = pipeline_positives_mol.copy(deep=False)\n",
    "# Loop all rows from test set\n",
    "for index, row in pipeline_positives_mol.iterrows():     \n",
    "    test_smiles = row['SMILES']\n",
    "    # Make allchem MolFrom the SMILES and convert it into to GetMorganFingerprintAsBitVec\n",
    "    test_mol = AllChem.MolFromSmiles(test_smiles)\n",
    "    ref_fps = AllChem.GetMorganFingerprintAsBitVect(test_mol,2)\n",
    "    # Calculate similarities with positives and negative\n",
    "    similarity_pos = [DataStructs.FingerprintSimilarity(ref_fps,x) for x in bulk_pos]\n",
    "    similarity_neg = [DataStructs.FingerprintSimilarity(ref_fps,x) for x in bulk_neg]\n",
    "    # Add all positive and negative similarities and normalize\n",
    "    rel_sum_pos = sum(similarity_pos)/len_pos # divide by sizes to normalize the result\n",
    "    rel_sum_neg = sum(similarity_neg)/len_neg # divide by sizes to normalize the result\n",
    "    \n",
    "    pipeline_positives_mol_copy.loc[index, ['SIM_WITH_POSITIVE_SET']] = rel_sum_pos\n",
    "    pipeline_positives_mol_copy.loc[index, ['SIM_WITH_NEGATIVE_SET']] = rel_sum_neg   \n",
    "\n",
    "pipeline_positives_mol_copy.head()"
   ]
  },
  {
   "cell_type": "markdown",
   "id": "766cd3f7-50a6-4edc-904d-731c207d1c23",
   "metadata": {},
   "source": [
    "Only select molecules with larger similarity with positives than with negatives"
   ]
  },
  {
   "cell_type": "code",
   "execution_count": 35,
   "id": "329a7e4f-6593-41f8-a181-a0f32b635ce3",
   "metadata": {},
   "outputs": [
    {
     "name": "stdout",
     "output_type": "stream",
     "text": [
      "3615 predicted positives after first selection\n"
     ]
    }
   ],
   "source": [
    "selection = pipeline_positives_mol_copy[pipeline_positives_mol_copy['SIM_WITH_POSITIVE_SET'] > pipeline_positives_mol_copy['SIM_WITH_NEGATIVE_SET']]\n",
    "print(\"{:d} predicted positives after first selection\".format(len(selection)))"
   ]
  },
  {
   "cell_type": "markdown",
   "id": "47596ecf-3ff1-469c-b4ce-f5cb678ea4bb",
   "metadata": {},
   "source": [
    "Sort the selection by similarity with positives and pick the first 100 molecules"
   ]
  },
  {
   "cell_type": "code",
   "execution_count": 36,
   "id": "e9a7cfcf-15c1-4870-a618-120bc002b316",
   "metadata": {},
   "outputs": [
    {
     "name": "stdout",
     "output_type": "stream",
     "text": [
      "100 predicted positives after first selection\n"
     ]
    }
   ],
   "source": [
    "selection_copy = selection.copy()\n",
    "selection_copy = selection_copy.sort_values(by=['SIM_WITH_POSITIVE_SET'], ascending=False);\n",
    "selection_copy = selection_copy.iloc[0:100]\n",
    "print(\"{:d} predicted positives after first selection\".format(len(selection_copy)))"
   ]
  },
  {
   "cell_type": "code",
   "execution_count": 37,
   "id": "2c919323-6f91-4a49-982a-6471ac796635",
   "metadata": {},
   "outputs": [],
   "source": [
    "definite_selection = selection_copy\n",
    "indexes = definite_selection.index"
   ]
  },
  {
   "cell_type": "code",
   "execution_count": 38,
   "id": "438c5990-9144-4c58-86ab-6ad4b6ea55d5",
   "metadata": {},
   "outputs": [],
   "source": [
    "selected_smiles = definite_selection['SMILES']"
   ]
  },
  {
   "cell_type": "code",
   "execution_count": 39,
   "id": "4e724dda-e921-45f6-bddb-1039908d4ceb",
   "metadata": {},
   "outputs": [],
   "source": [
    "selected_smiles.to_csv('100_selected_ALDH1_inhibitors.csv', index=False)  "
   ]
  },
  {
   "cell_type": "code",
   "execution_count": null,
   "id": "37a4e5e9-00b7-4a03-ac55-1ce8649d1abd",
   "metadata": {},
   "outputs": [],
   "source": []
  }
 ],
 "metadata": {
  "kernelspec": {
   "display_name": "Python 3",
   "language": "python",
   "name": "python3"
  },
  "language_info": {
   "codemirror_mode": {
    "name": "ipython",
    "version": 3
   },
   "file_extension": ".py",
   "mimetype": "text/x-python",
   "name": "python",
   "nbconvert_exporter": "python",
   "pygments_lexer": "ipython3",
   "version": "3.8.8"
  }
 },
 "nbformat": 4,
 "nbformat_minor": 5
}
