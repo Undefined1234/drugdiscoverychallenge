{
 "cells": [
  {
   "cell_type": "code",
   "execution_count": 2,
   "metadata": {},
   "outputs": [],
   "source": [
    "import os\n",
    "import numpy as np\n",
    "import pandas as pd\n",
    "import matplotlib.pyplot as plt\n",
    "import seaborn as sns\n",
    "from IPython.display import display\n",
    "from rdkit.Chem import PandasTools, Descriptors\n",
    "from rdkit.ML.Descriptors import MoleculeDescriptors\n",
    "from sklearn import pipeline as pl\n",
    "from sklearn import preprocessing as pp\n",
    "from sklearn import tree\n",
    "from sklearn.metrics import confusion_matrix\n",
    "from sklearn.model_selection import train_test_split\n",
    "from sklearn.decomposition import PCA\n",
    "from sklearn.model_selection import cross_val_score\n",
    "import graphviz \n"
   ]
  },
  {
   "attachments": {},
   "cell_type": "markdown",
   "metadata": {},
   "source": [
    "### Dataset initiation\n",
    "Initiate and prepare the dataset with descriptors to make them usable for the ML-model. "
   ]
  },
  {
   "cell_type": "code",
   "execution_count": 3,
   "metadata": {},
   "outputs": [
    {
     "data": {
      "text/html": [
       "<div>\n",
       "<style scoped>\n",
       "    .dataframe tbody tr th:only-of-type {\n",
       "        vertical-align: middle;\n",
       "    }\n",
       "\n",
       "    .dataframe tbody tr th {\n",
       "        vertical-align: top;\n",
       "    }\n",
       "\n",
       "    .dataframe thead th {\n",
       "        text-align: right;\n",
       "    }\n",
       "</style>\n",
       "<table border=\"1\" class=\"dataframe\">\n",
       "  <thead>\n",
       "    <tr style=\"text-align: right;\">\n",
       "      <th></th>\n",
       "      <th>SMILES</th>\n",
       "      <th>ALDH1_inhibition</th>\n",
       "      <th>ROMol</th>\n",
       "    </tr>\n",
       "  </thead>\n",
       "  <tbody>\n",
       "    <tr>\n",
       "      <th>0</th>\n",
       "      <td>[NH3+]CCSSCC[NH3+]</td>\n",
       "      <td>0</td>\n",
       "      <td>&lt;rdkit.Chem.rdchem.Mol object at 0x0000016C2C6...</td>\n",
       "    </tr>\n",
       "    <tr>\n",
       "      <th>1</th>\n",
       "      <td>[NH3+]CCC[NH2+]CCCC[NH2+]CCC[NH3+]</td>\n",
       "      <td>0</td>\n",
       "      <td>&lt;rdkit.Chem.rdchem.Mol object at 0x0000016C2C6...</td>\n",
       "    </tr>\n",
       "    <tr>\n",
       "      <th>2</th>\n",
       "      <td>[NH3+]CCCCCCCCCC[NH3+]</td>\n",
       "      <td>0</td>\n",
       "      <td>&lt;rdkit.Chem.rdchem.Mol object at 0x0000016C2C6...</td>\n",
       "    </tr>\n",
       "    <tr>\n",
       "      <th>3</th>\n",
       "      <td>[NH3+]CCSSCC[NH3+]</td>\n",
       "      <td>0</td>\n",
       "      <td>&lt;rdkit.Chem.rdchem.Mol object at 0x0000016C2C6...</td>\n",
       "    </tr>\n",
       "    <tr>\n",
       "      <th>4</th>\n",
       "      <td>ClCC[NH+](CCCl)CCCl</td>\n",
       "      <td>0</td>\n",
       "      <td>&lt;rdkit.Chem.rdchem.Mol object at 0x0000016C2C6...</td>\n",
       "    </tr>\n",
       "  </tbody>\n",
       "</table>\n",
       "</div>"
      ],
      "text/plain": [
       "                               SMILES  ALDH1_inhibition  \\\n",
       "0                  [NH3+]CCSSCC[NH3+]                 0   \n",
       "1  [NH3+]CCC[NH2+]CCCC[NH2+]CCC[NH3+]                 0   \n",
       "2              [NH3+]CCCCCCCCCC[NH3+]                 0   \n",
       "3                  [NH3+]CCSSCC[NH3+]                 0   \n",
       "4                 ClCC[NH+](CCCl)CCCl                 0   \n",
       "\n",
       "                                               ROMol  \n",
       "0  <rdkit.Chem.rdchem.Mol object at 0x0000016C2C6...  \n",
       "1  <rdkit.Chem.rdchem.Mol object at 0x0000016C2C6...  \n",
       "2  <rdkit.Chem.rdchem.Mol object at 0x0000016C2C6...  \n",
       "3  <rdkit.Chem.rdchem.Mol object at 0x0000016C2C6...  \n",
       "4  <rdkit.Chem.rdchem.Mol object at 0x0000016C2C6...  "
      ]
     },
     "execution_count": 3,
     "metadata": {},
     "output_type": "execute_result"
    }
   ],
   "source": [
    "dataset_molecules = pd.read_csv('tested_molecules_v2.csv')\n",
    "PandasTools.AddMoleculeColumnToFrame(dataset_molecules, smilesCol='SMILES')\n",
    "dataset_molecules.head()\n"
   ]
  },
  {
   "cell_type": "code",
   "execution_count": 4,
   "metadata": {},
   "outputs": [
    {
     "data": {
      "text/html": [
       "<div>\n",
       "<style scoped>\n",
       "    .dataframe tbody tr th:only-of-type {\n",
       "        vertical-align: middle;\n",
       "    }\n",
       "\n",
       "    .dataframe tbody tr th {\n",
       "        vertical-align: top;\n",
       "    }\n",
       "\n",
       "    .dataframe thead tr th {\n",
       "        text-align: left;\n",
       "    }\n",
       "</style>\n",
       "<table border=\"1\" class=\"dataframe\">\n",
       "  <thead>\n",
       "    <tr>\n",
       "      <th></th>\n",
       "      <th>MaxAbsEStateIndex</th>\n",
       "      <th>MinAbsEStateIndex</th>\n",
       "      <th>MinEStateIndex</th>\n",
       "      <th>BCUT2D_CHGHI</th>\n",
       "      <th>BCUT2D_CHGLO</th>\n",
       "      <th>BCUT2D_LOGPLOW</th>\n",
       "      <th>BCUT2D_MRLOW</th>\n",
       "      <th>SMR_VSA1</th>\n",
       "      <th>SMR_VSA5</th>\n",
       "      <th>SlogP_VSA2</th>\n",
       "      <th>EState_VSA10</th>\n",
       "      <th>VSA_EState2</th>\n",
       "      <th>FractionCSP3</th>\n",
       "      <th>NumAliphaticRings</th>\n",
       "    </tr>\n",
       "  </thead>\n",
       "  <tbody>\n",
       "    <tr>\n",
       "      <th>0</th>\n",
       "      <td>3.733529</td>\n",
       "      <td>1.036517</td>\n",
       "      <td>1.036517</td>\n",
       "      <td>1.865112</td>\n",
       "      <td>-1.907393</td>\n",
       "      <td>-2.514714</td>\n",
       "      <td>-0.360469</td>\n",
       "      <td>11.467335</td>\n",
       "      <td>0.000000</td>\n",
       "      <td>24.595220</td>\n",
       "      <td>0.0</td>\n",
       "      <td>0.000000</td>\n",
       "      <td>1.0</td>\n",
       "      <td>0</td>\n",
       "    </tr>\n",
       "    <tr>\n",
       "      <th>1</th>\n",
       "      <td>3.831341</td>\n",
       "      <td>1.078701</td>\n",
       "      <td>1.078701</td>\n",
       "      <td>1.940948</td>\n",
       "      <td>-2.003261</td>\n",
       "      <td>-2.860321</td>\n",
       "      <td>-0.666457</td>\n",
       "      <td>22.100912</td>\n",
       "      <td>25.683286</td>\n",
       "      <td>39.268538</td>\n",
       "      <td>0.0</td>\n",
       "      <td>0.000000</td>\n",
       "      <td>1.0</td>\n",
       "      <td>0</td>\n",
       "    </tr>\n",
       "    <tr>\n",
       "      <th>2</th>\n",
       "      <td>3.837048</td>\n",
       "      <td>1.112603</td>\n",
       "      <td>1.112603</td>\n",
       "      <td>1.908706</td>\n",
       "      <td>-1.984755</td>\n",
       "      <td>-2.495713</td>\n",
       "      <td>-0.368558</td>\n",
       "      <td>11.467335</td>\n",
       "      <td>51.366573</td>\n",
       "      <td>13.089513</td>\n",
       "      <td>0.0</td>\n",
       "      <td>0.000000</td>\n",
       "      <td>1.0</td>\n",
       "      <td>0</td>\n",
       "    </tr>\n",
       "    <tr>\n",
       "      <th>3</th>\n",
       "      <td>3.733529</td>\n",
       "      <td>1.036517</td>\n",
       "      <td>1.036517</td>\n",
       "      <td>1.865112</td>\n",
       "      <td>-1.907393</td>\n",
       "      <td>-2.514714</td>\n",
       "      <td>-0.360469</td>\n",
       "      <td>11.467335</td>\n",
       "      <td>0.000000</td>\n",
       "      <td>24.595220</td>\n",
       "      <td>0.0</td>\n",
       "      <td>0.000000</td>\n",
       "      <td>1.0</td>\n",
       "      <td>0</td>\n",
       "    </tr>\n",
       "    <tr>\n",
       "      <th>4</th>\n",
       "      <td>5.560741</td>\n",
       "      <td>0.683642</td>\n",
       "      <td>0.683642</td>\n",
       "      <td>2.035557</td>\n",
       "      <td>-2.143624</td>\n",
       "      <td>-3.126526</td>\n",
       "      <td>-0.892277</td>\n",
       "      <td>4.899910</td>\n",
       "      <td>0.000000</td>\n",
       "      <td>37.274280</td>\n",
       "      <td>0.0</td>\n",
       "      <td>1.388889</td>\n",
       "      <td>1.0</td>\n",
       "      <td>0</td>\n",
       "    </tr>\n",
       "  </tbody>\n",
       "</table>\n",
       "</div>"
      ],
      "text/plain": [
       "  MaxAbsEStateIndex MinAbsEStateIndex MinEStateIndex BCUT2D_CHGHI  \\\n",
       "0          3.733529          1.036517       1.036517     1.865112   \n",
       "1          3.831341          1.078701       1.078701     1.940948   \n",
       "2          3.837048          1.112603       1.112603     1.908706   \n",
       "3          3.733529          1.036517       1.036517     1.865112   \n",
       "4          5.560741          0.683642       0.683642     2.035557   \n",
       "\n",
       "  BCUT2D_CHGLO BCUT2D_LOGPLOW BCUT2D_MRLOW   SMR_VSA1   SMR_VSA5 SlogP_VSA2  \\\n",
       "0    -1.907393      -2.514714    -0.360469  11.467335   0.000000  24.595220   \n",
       "1    -2.003261      -2.860321    -0.666457  22.100912  25.683286  39.268538   \n",
       "2    -1.984755      -2.495713    -0.368558  11.467335  51.366573  13.089513   \n",
       "3    -1.907393      -2.514714    -0.360469  11.467335   0.000000  24.595220   \n",
       "4    -2.143624      -3.126526    -0.892277   4.899910   0.000000  37.274280   \n",
       "\n",
       "  EState_VSA10 VSA_EState2 FractionCSP3 NumAliphaticRings  \n",
       "0          0.0    0.000000          1.0                 0  \n",
       "1          0.0    0.000000          1.0                 0  \n",
       "2          0.0    0.000000          1.0                 0  \n",
       "3          0.0    0.000000          1.0                 0  \n",
       "4          0.0    1.388889          1.0                 0  "
      ]
     },
     "execution_count": 4,
     "metadata": {},
     "output_type": "execute_result"
    }
   ],
   "source": [
    "\n",
    "descriptors_labels = [n[0] for n in Descriptors._descList[:]]\n",
    "calc = MoleculeDescriptors.MolecularDescriptorCalculator(descriptors_labels)\n",
    "rdkit_desc = [calc.CalcDescriptors(m) for m in dataset_molecules[\"ROMol\"]]\n",
    "dataset_descriptors = pd.DataFrame(rdkit_desc, columns=[descriptors_labels])\n",
    "dataset_descriptors = dataset_descriptors[['MaxAbsEStateIndex',\n",
    " 'MinAbsEStateIndex',\n",
    " 'MinEStateIndex',\n",
    " 'BCUT2D_CHGHI',\n",
    " 'BCUT2D_CHGLO',\n",
    " 'BCUT2D_LOGPLOW',\n",
    " 'BCUT2D_MRLOW',\n",
    " 'SMR_VSA1',\n",
    " 'SMR_VSA5',\n",
    " 'SlogP_VSA2',\n",
    " 'EState_VSA10',\n",
    " 'VSA_EState2',\n",
    " 'FractionCSP3',\n",
    " 'NumAliphaticRings']]\n",
    "X_train, X_test, y_train, y_test = train_test_split(dataset_descriptors, dataset_molecules['ALDH1_inhibition'], test_size=0.5, random_state=42)\n",
    "dataset_descriptors.head()"
   ]
  },
  {
   "attachments": {},
   "cell_type": "markdown",
   "metadata": {},
   "source": [
    "### Introducing a Pipeline with minmax scaler and Desciscion tree."
   ]
  },
  {
   "cell_type": "code",
   "execution_count": 5,
   "metadata": {},
   "outputs": [
    {
     "name": "stdout",
     "output_type": "stream",
     "text": [
      "Cross score:\n",
      "[0.92 1.   0.98 0.98 0.98 0.92 0.98 0.96 0.96 0.92]\n",
      "score:\n",
      "0.964\n"
     ]
    }
   ],
   "source": [
    "scaler = pp.MinMaxScaler()\n",
    "pca = PCA()\n",
    "dtree = tree.DecisionTreeClassifier(max_features=None, max_depth=None, max_leaf_nodes=None)\n",
    "\n",
    "pipeline = pl.Pipeline(steps=[(\"sc\", scaler), (\"pca\", pca), (\"dtreeCLF\", dtree)])\n",
    "cross_score = cross_val_score(pipeline, X_train, y_train, cv=10)\n",
    "print(\"Cross score:\") \n",
    "print(cross_score)\n",
    "pipeline.fit(X_train, y_train)\n",
    "print(\"score:\")\n",
    "print(pipeline.score(X_test, y_test))"
   ]
  },
  {
   "attachments": {},
   "cell_type": "markdown",
   "metadata": {},
   "source": [
    "### Creating a physical tree"
   ]
  },
  {
   "cell_type": "code",
   "execution_count": 6,
   "metadata": {},
   "outputs": [
    {
     "data": {
      "text/plain": [
       "'descision_tree.pdf'"
      ]
     },
     "execution_count": 6,
     "metadata": {},
     "output_type": "execute_result"
    }
   ],
   "source": [
    "dot_data = tree.export_graphviz(dtree, out_file=None, feature_names=dataset_descriptors.columns, class_names=['1', '0'])\n",
    "graph = graphviz.Source(dot_data) \n",
    "graph.render(\"descision_tree\") "
   ]
  },
  {
   "attachments": {},
   "cell_type": "markdown",
   "metadata": {},
   "source": [
    "### Analysing the model"
   ]
  },
  {
   "cell_type": "code",
   "execution_count": 7,
   "metadata": {},
   "outputs": [
    {
     "name": "stdout",
     "output_type": "stream",
     "text": [
      " |+\t|-\t|\n",
      "+|123\t|8\t|\n",
      "-|10\t|359\t|\n",
      "Specificiteit: 0.98 Sensitivity: 0.94 Accuracy 0.96\n"
     ]
    }
   ],
   "source": [
    "y_true = y_test\n",
    "y_pred = pipeline.predict(X_test)\n",
    "\n",
    "tn, fp, fn, tp = confusion_matrix(y_true, y_pred).ravel()\n",
    "specificity = tn / (tn+fp)\n",
    "sensitivity = tp/(tp+fp) \n",
    "accuracy = (tp+tn)/(tp+tn+fp+fn)\n",
    "print(\" |+\\t|-\\t|\\n+|{:.0f}\\t|{:.0f}\\t|\\n-|{:.0f}\\t|{:.0f}\\t|\".format(tp, fp, fn, tn))\n",
    "print(\"Specificiteit: {:.2f} Sensitivity: {:.2f} Accuracy {:.2f}\".format(specificity, sensitivity, accuracy))"
   ]
  }
 ],
 "metadata": {
  "kernelspec": {
   "display_name": "base",
   "language": "python",
   "name": "python3"
  },
  "language_info": {
   "codemirror_mode": {
    "name": "ipython",
    "version": 3
   },
   "file_extension": ".py",
   "mimetype": "text/x-python",
   "name": "python",
   "nbconvert_exporter": "python",
   "pygments_lexer": "ipython3",
   "version": "3.8.16"
  },
  "orig_nbformat": 4
 },
 "nbformat": 4,
 "nbformat_minor": 2
}
