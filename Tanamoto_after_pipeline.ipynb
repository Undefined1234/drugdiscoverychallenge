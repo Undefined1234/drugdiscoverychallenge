{
 "cells": [
  {
   "cell_type": "markdown",
   "id": "40633d90-88b8-4be7-901a-6f6c661d8255",
   "metadata": {},
   "source": [
    "This code calculates further on X_test\n",
    "A selection of 100 molecules is made, based on the selection from pipeline + further reduction by similarity analysis of the selected molecules with the known ALDH1-positives (and negatives)\n",
    "Can be appended to Constantijns pipeline.\n",
    "Als er problemen zijn laat maar weten."
   ]
  },
  {
   "cell_type": "markdown",
   "id": "daa04d32-2c22-4f25-a34e-e4aafe8dd11f",
   "metadata": {},
   "source": [
    "## Further processing of the selection"
   ]
  },
  {
   "cell_type": "markdown",
   "id": "e9e5ca07-e76c-4196-b463-d366def76177",
   "metadata": {},
   "source": [
    "Create new datafame from X_test. Append values for 'ALDH1_inhibition' and 'predicted'"
   ]
  },
  {
   "cell_type": "code",
   "execution_count": 20,
   "id": "9b84bce1-601a-4720-99d3-d6b81f5ca387",
   "metadata": {},
   "outputs": [
    {
     "data": {
      "text/html": [
       "<div>\n",
       "<style scoped>\n",
       "    .dataframe tbody tr th:only-of-type {\n",
       "        vertical-align: middle;\n",
       "    }\n",
       "\n",
       "    .dataframe tbody tr th {\n",
       "        vertical-align: top;\n",
       "    }\n",
       "\n",
       "    .dataframe thead tr th {\n",
       "        text-align: left;\n",
       "    }\n",
       "</style>\n",
       "<table border=\"1\" class=\"dataframe\">\n",
       "  <thead>\n",
       "    <tr>\n",
       "      <th></th>\n",
       "      <th>MaxAbsEStateIndex</th>\n",
       "      <th>MinAbsEStateIndex</th>\n",
       "      <th>MinEStateIndex</th>\n",
       "      <th>BCUT2D_CHGHI</th>\n",
       "      <th>BCUT2D_CHGLO</th>\n",
       "      <th>BCUT2D_LOGPLOW</th>\n",
       "      <th>BCUT2D_MRLOW</th>\n",
       "      <th>SMR_VSA1</th>\n",
       "      <th>SMR_VSA5</th>\n",
       "      <th>SlogP_VSA2</th>\n",
       "      <th>EState_VSA10</th>\n",
       "      <th>VSA_EState2</th>\n",
       "      <th>FractionCSP3</th>\n",
       "      <th>NumAliphaticRings</th>\n",
       "      <th>ALDH1_inhibition</th>\n",
       "      <th>predicted</th>\n",
       "    </tr>\n",
       "  </thead>\n",
       "  <tbody>\n",
       "    <tr>\n",
       "      <th>1860</th>\n",
       "      <td>12.938670</td>\n",
       "      <td>0.088947</td>\n",
       "      <td>-3.642991</td>\n",
       "      <td>2.351664</td>\n",
       "      <td>-2.307988</td>\n",
       "      <td>-2.449569</td>\n",
       "      <td>-0.125741</td>\n",
       "      <td>13.212334</td>\n",
       "      <td>38.129358</td>\n",
       "      <td>41.917069</td>\n",
       "      <td>13.212334</td>\n",
       "      <td>13.750281</td>\n",
       "      <td>0.500000</td>\n",
       "      <td>1</td>\n",
       "      <td>0</td>\n",
       "      <td>1</td>\n",
       "    </tr>\n",
       "    <tr>\n",
       "      <th>353</th>\n",
       "      <td>4.597214</td>\n",
       "      <td>0.819103</td>\n",
       "      <td>0.819103</td>\n",
       "      <td>2.225038</td>\n",
       "      <td>-2.049995</td>\n",
       "      <td>-2.684847</td>\n",
       "      <td>-0.460778</td>\n",
       "      <td>5.101408</td>\n",
       "      <td>0.000000</td>\n",
       "      <td>16.531283</td>\n",
       "      <td>0.000000</td>\n",
       "      <td>4.518570</td>\n",
       "      <td>0.000000</td>\n",
       "      <td>1</td>\n",
       "      <td>0</td>\n",
       "      <td>0</td>\n",
       "    </tr>\n",
       "    <tr>\n",
       "      <th>1333</th>\n",
       "      <td>12.173495</td>\n",
       "      <td>0.014973</td>\n",
       "      <td>-0.504740</td>\n",
       "      <td>2.132749</td>\n",
       "      <td>-2.018149</td>\n",
       "      <td>-2.195873</td>\n",
       "      <td>0.097039</td>\n",
       "      <td>9.211688</td>\n",
       "      <td>13.468494</td>\n",
       "      <td>10.350345</td>\n",
       "      <td>9.589074</td>\n",
       "      <td>24.034309</td>\n",
       "      <td>0.125000</td>\n",
       "      <td>0</td>\n",
       "      <td>0</td>\n",
       "      <td>0</td>\n",
       "    </tr>\n",
       "    <tr>\n",
       "      <th>905</th>\n",
       "      <td>12.442508</td>\n",
       "      <td>0.089206</td>\n",
       "      <td>-0.214087</td>\n",
       "      <td>2.206277</td>\n",
       "      <td>-2.106670</td>\n",
       "      <td>-2.313198</td>\n",
       "      <td>0.086127</td>\n",
       "      <td>14.268263</td>\n",
       "      <td>25.869347</td>\n",
       "      <td>36.336766</td>\n",
       "      <td>4.794537</td>\n",
       "      <td>12.870177</td>\n",
       "      <td>0.411765</td>\n",
       "      <td>1</td>\n",
       "      <td>1</td>\n",
       "      <td>0</td>\n",
       "    </tr>\n",
       "    <tr>\n",
       "      <th>1289</th>\n",
       "      <td>5.116451</td>\n",
       "      <td>0.451150</td>\n",
       "      <td>0.451150</td>\n",
       "      <td>1.975855</td>\n",
       "      <td>-2.136225</td>\n",
       "      <td>-2.479488</td>\n",
       "      <td>0.195439</td>\n",
       "      <td>4.736863</td>\n",
       "      <td>6.420822</td>\n",
       "      <td>30.486310</td>\n",
       "      <td>0.000000</td>\n",
       "      <td>0.000000</td>\n",
       "      <td>0.333333</td>\n",
       "      <td>0</td>\n",
       "      <td>1</td>\n",
       "      <td>0</td>\n",
       "    </tr>\n",
       "  </tbody>\n",
       "</table>\n",
       "</div>"
      ],
      "text/plain": [
       "     MaxAbsEStateIndex MinAbsEStateIndex MinEStateIndex BCUT2D_CHGHI  \\\n",
       "1860         12.938670          0.088947      -3.642991     2.351664   \n",
       "353           4.597214          0.819103       0.819103     2.225038   \n",
       "1333         12.173495          0.014973      -0.504740     2.132749   \n",
       "905          12.442508          0.089206      -0.214087     2.206277   \n",
       "1289          5.116451          0.451150       0.451150     1.975855   \n",
       "\n",
       "     BCUT2D_CHGLO BCUT2D_LOGPLOW BCUT2D_MRLOW   SMR_VSA1   SMR_VSA5  \\\n",
       "1860    -2.307988      -2.449569    -0.125741  13.212334  38.129358   \n",
       "353     -2.049995      -2.684847    -0.460778   5.101408   0.000000   \n",
       "1333    -2.018149      -2.195873     0.097039   9.211688  13.468494   \n",
       "905     -2.106670      -2.313198     0.086127  14.268263  25.869347   \n",
       "1289    -2.136225      -2.479488     0.195439   4.736863   6.420822   \n",
       "\n",
       "     SlogP_VSA2 EState_VSA10 VSA_EState2 FractionCSP3 NumAliphaticRings  \\\n",
       "1860  41.917069    13.212334   13.750281     0.500000                 1   \n",
       "353   16.531283     0.000000    4.518570     0.000000                 1   \n",
       "1333  10.350345     9.589074   24.034309     0.125000                 0   \n",
       "905   36.336766     4.794537   12.870177     0.411765                 1   \n",
       "1289  30.486310     0.000000    0.000000     0.333333                 0   \n",
       "\n",
       "     ALDH1_inhibition predicted  \n",
       "1860                0         1  \n",
       "353                 0         0  \n",
       "1333                0         0  \n",
       "905                 1         0  \n",
       "1289                1         0  "
      ]
     },
     "execution_count": 20,
     "metadata": {},
     "output_type": "execute_result"
    }
   ],
   "source": [
    "pipeline_results = X_test.copy()\n",
    "pipeline_results['ALDH1_inhibition'] = y_test\n",
    "pipeline_results['predicted'] = y_pred\n",
    "pipeline_results.head()"
   ]
  },
  {
   "cell_type": "markdown",
   "id": "28d80373-0257-4205-a95f-e3f08a7e20fc",
   "metadata": {},
   "source": [
    "Select only the predicted positives"
   ]
  },
  {
   "cell_type": "code",
   "execution_count": 21,
   "id": "a3181b26-ce69-419c-98a9-6e4dd80c587f",
   "metadata": {},
   "outputs": [
    {
     "name": "stdout",
     "output_type": "stream",
     "text": [
      "191 positives from pipeline\n"
     ]
    }
   ],
   "source": [
    "pipeline_positives = pipeline_results[pipeline_results['predicted'].values == 1]\n",
    "print(\"{} positives from pipeline\".format(pipeline_positives.shape[0]))"
   ]
  },
  {
   "cell_type": "markdown",
   "id": "2df54355-b03e-467b-86b1-8fae8344763c",
   "metadata": {},
   "source": [
    "## Further Selection with Tanamoto similarity"
   ]
  },
  {
   "cell_type": "markdown",
   "id": "c6600d01-aec3-4cc8-ae3a-cac963cae05c",
   "metadata": {},
   "source": [
    "Load all known molecules in frame"
   ]
  },
  {
   "cell_type": "code",
   "execution_count": 22,
   "id": "3cde373b-e5f3-4324-ae80-4bf817fb27a5",
   "metadata": {},
   "outputs": [],
   "source": [
    "from rdkit import DataStructs\n",
    "tested_molecules = dataset_molecules.copy()\n",
    "PandasTools.AddMoleculeColumnToFrame(tested_molecules, smilesCol='SMILES')"
   ]
  },
  {
   "cell_type": "markdown",
   "id": "e625ce1f-afbf-4ed7-8596-dcf71c37dbdb",
   "metadata": {},
   "source": [
    "Divide molecules in Inhibitors and non-Inhibitors"
   ]
  },
  {
   "cell_type": "code",
   "execution_count": 23,
   "id": "b8dd0ea1-c407-49bf-bdd1-101c167f1c06",
   "metadata": {},
   "outputs": [
    {
     "name": "stdout",
     "output_type": "stream",
     "text": [
      "24.15% inhibitors present in known molecules\n"
     ]
    }
   ],
   "source": [
    "tested_molecules_pos = tested_molecules[tested_molecules['ALDH1_inhibition'] == 1]\n",
    "tested_molecules_neg = tested_molecules[tested_molecules['ALDH1_inhibition'] == 0]\n",
    "print(\"{}% inhibitors present in known molecules\".format(100*len(train_set_pos)/len(tested_molecules)))"
   ]
  },
  {
   "cell_type": "markdown",
   "id": "9b437ecb-61ad-4669-b516-98a4c4eee7af",
   "metadata": {},
   "source": [
    "Convert both sets to Morgan Fingerprints (to compare with)"
   ]
  },
  {
   "cell_type": "code",
   "execution_count": 30,
   "id": "bf2ed1ee-5384-4c0c-bd4a-fde988924af7",
   "metadata": {},
   "outputs": [],
   "source": [
    "from rdkit.Chem import AllChem\n",
    "bulk_pos = [AllChem.GetMorganFingerprintAsBitVect(x,2) for x in tested_molecules_pos['ROMol']]\n",
    "bulk_neg = [AllChem.GetMorganFingerprintAsBitVect(x,2) for x in tested_molecules_neg['ROMol']]\n",
    "len_pos = len(bulk_pos); len_neg = len(bulk_neg)"
   ]
  },
  {
   "cell_type": "markdown",
   "id": "6e06d7d8-5716-4061-aa94-1136568e32ca",
   "metadata": {},
   "source": [
    "Get indices from pipeline prediction and select these indices from dataset_molecules.\n",
    "This must be done to retreive SMILES again, since these are needed for the comparison in the for loop"
   ]
  },
  {
   "cell_type": "code",
   "execution_count": 31,
   "id": "5d8a4363-7872-4435-a94b-35883bddedbb",
   "metadata": {},
   "outputs": [
    {
     "name": "stdout",
     "output_type": "stream",
     "text": [
      "191 positive molecules from pipeline\n"
     ]
    }
   ],
   "source": [
    "index_pipeline_positives = pipeline_positives.index\n",
    "pipeline_positives_mol = dataset_molecules.iloc[index_pipeline_positives]\n",
    "print(\"{} positive molecules from pipeline\".format(len(pipeline_positives_mol)))"
   ]
  },
  {
   "cell_type": "markdown",
   "id": "c4a0cfc6-7d4d-464a-9ecd-c06c0ea78ca4",
   "metadata": {},
   "source": [
    "Calculate similarity with tested positives/negatives for every mol from pipeline_positives"
   ]
  },
  {
   "cell_type": "code",
   "execution_count": 32,
   "id": "6274e397-418b-4bd9-b485-4e37003986aa",
   "metadata": {},
   "outputs": [
    {
     "data": {
      "text/html": [
       "<div>\n",
       "<style scoped>\n",
       "    .dataframe tbody tr th:only-of-type {\n",
       "        vertical-align: middle;\n",
       "    }\n",
       "\n",
       "    .dataframe tbody tr th {\n",
       "        vertical-align: top;\n",
       "    }\n",
       "\n",
       "    .dataframe thead th {\n",
       "        text-align: right;\n",
       "    }\n",
       "</style>\n",
       "<table border=\"1\" class=\"dataframe\">\n",
       "  <thead>\n",
       "    <tr style=\"text-align: right;\">\n",
       "      <th></th>\n",
       "      <th>SMILES</th>\n",
       "      <th>ALDH1_inhibition</th>\n",
       "      <th>ROMol</th>\n",
       "      <th>SIM_WITH_POSITIVE_SET</th>\n",
       "      <th>SIM_WITH_NEGATIVE_SET</th>\n",
       "    </tr>\n",
       "  </thead>\n",
       "  <tbody>\n",
       "    <tr>\n",
       "      <th>1860</th>\n",
       "      <td>Cc1n[nH]c(C)c1S(=O)(=O)N1CCCC(C(=O)NCc2cccs2)C1</td>\n",
       "      <td>0</td>\n",
       "      <td>&lt;rdkit.Chem.rdchem.Mol object at 0x000001DE619...</td>\n",
       "      <td>0.147624</td>\n",
       "      <td>0.116059</td>\n",
       "    </tr>\n",
       "    <tr>\n",
       "      <th>938</th>\n",
       "      <td>COC(=O)c1c(-c2ccco2)csc1NC(=O)C1CC=CCC1C(=O)[O-]</td>\n",
       "      <td>1</td>\n",
       "      <td>&lt;rdkit.Chem.rdchem.Mol object at 0x000001DE619...</td>\n",
       "      <td>0.134356</td>\n",
       "      <td>0.092620</td>\n",
       "    </tr>\n",
       "    <tr>\n",
       "      <th>65</th>\n",
       "      <td>FC(F)(F)c1ccccc1-c1cc(NCc2cccs2)ncn1</td>\n",
       "      <td>0</td>\n",
       "      <td>&lt;rdkit.Chem.rdchem.Mol object at 0x000001DE609...</td>\n",
       "      <td>0.086200</td>\n",
       "      <td>0.118449</td>\n",
       "    </tr>\n",
       "    <tr>\n",
       "      <th>56</th>\n",
       "      <td>N#CC(Cc1ccccc1OC(F)F)c1nc2ccccc2[nH]1</td>\n",
       "      <td>0</td>\n",
       "      <td>&lt;rdkit.Chem.rdchem.Mol object at 0x000001DE609...</td>\n",
       "      <td>0.075265</td>\n",
       "      <td>0.106971</td>\n",
       "    </tr>\n",
       "    <tr>\n",
       "      <th>746</th>\n",
       "      <td>Cc1onc(-c2c(F)cccc2Cl)c1C(=O)NC(=S)NC1CCSC1=O</td>\n",
       "      <td>1</td>\n",
       "      <td>&lt;rdkit.Chem.rdchem.Mol object at 0x000001DE609...</td>\n",
       "      <td>0.135623</td>\n",
       "      <td>0.112198</td>\n",
       "    </tr>\n",
       "  </tbody>\n",
       "</table>\n",
       "</div>"
      ],
      "text/plain": [
       "                                                SMILES  ALDH1_inhibition  \\\n",
       "1860   Cc1n[nH]c(C)c1S(=O)(=O)N1CCCC(C(=O)NCc2cccs2)C1                 0   \n",
       "938   COC(=O)c1c(-c2ccco2)csc1NC(=O)C1CC=CCC1C(=O)[O-]                 1   \n",
       "65                FC(F)(F)c1ccccc1-c1cc(NCc2cccs2)ncn1                 0   \n",
       "56               N#CC(Cc1ccccc1OC(F)F)c1nc2ccccc2[nH]1                 0   \n",
       "746      Cc1onc(-c2c(F)cccc2Cl)c1C(=O)NC(=S)NC1CCSC1=O                 1   \n",
       "\n",
       "                                                  ROMol  \\\n",
       "1860  <rdkit.Chem.rdchem.Mol object at 0x000001DE619...   \n",
       "938   <rdkit.Chem.rdchem.Mol object at 0x000001DE619...   \n",
       "65    <rdkit.Chem.rdchem.Mol object at 0x000001DE609...   \n",
       "56    <rdkit.Chem.rdchem.Mol object at 0x000001DE609...   \n",
       "746   <rdkit.Chem.rdchem.Mol object at 0x000001DE609...   \n",
       "\n",
       "      SIM_WITH_POSITIVE_SET  SIM_WITH_NEGATIVE_SET  \n",
       "1860               0.147624               0.116059  \n",
       "938                0.134356               0.092620  \n",
       "65                 0.086200               0.118449  \n",
       "56                 0.075265               0.106971  \n",
       "746                0.135623               0.112198  "
      ]
     },
     "execution_count": 32,
     "metadata": {},
     "output_type": "execute_result"
    }
   ],
   "source": [
    "pipeline_positives_mol_copy = pipeline_positives_mol.copy(deep=False)\n",
    "# Loop all rows from test set\n",
    "for index, row in pipeline_positives_mol.iterrows():     \n",
    "    test_smiles = row['SMILES']\n",
    "    # Make allchem MolFrom the SMILES and convert it into to GetMorganFingerprintAsBitVec\n",
    "    test_mol = AllChem.MolFromSmiles(test_smiles)\n",
    "    ref_fps = AllChem.GetMorganFingerprintAsBitVect(test_mol,2)\n",
    "    # Calculate similarities with positives and negative\n",
    "    similarity_pos = [DataStructs.FingerprintSimilarity(ref_fps,x) for x in bulk_pos]\n",
    "    similarity_neg = [DataStructs.FingerprintSimilarity(ref_fps,x) for x in bulk_neg]\n",
    "    # Add all positive and negative similarities and normalize\n",
    "    rel_sum_pos = sum(similarity_pos)/len_pos # divide by sizes to normalize the result\n",
    "    rel_sum_neg = sum(similarity_neg)/len_neg # divide by sizes to normalize the result\n",
    "    \n",
    "    pipeline_positives_mol_copy.loc[index, ['SIM_WITH_POSITIVE_SET']] = rel_sum_pos\n",
    "    pipeline_positives_mol_copy.loc[index, ['SIM_WITH_NEGATIVE_SET']] = rel_sum_neg   \n",
    "\n",
    "pipeline_positives_mol_copy.head()"
   ]
  },
  {
   "cell_type": "code",
   "execution_count": 34,
   "id": "360c07b7-c2c6-4745-8e1b-858b2ad42a57",
   "metadata": {},
   "outputs": [
    {
     "name": "stdout",
     "output_type": "stream",
     "text": [
      "191 predicted positives from pipeline. 47.6% false. \n"
     ]
    }
   ],
   "source": [
    "false_positives = pipeline_positives_mol_copy[pipeline_positives_mol_copy['ALDH1_inhibition'] == 0]\n",
    "print(\"{:d} predicted positives from pipeline. {:.1f}% false. \".format(len(pipeline_positives_mol_copy),100*len(false_positives)/len(pipeline_positives_mol_copy)))"
   ]
  },
  {
   "cell_type": "markdown",
   "id": "139a43dc-37ae-46a0-a755-98107bd8dda5",
   "metadata": {},
   "source": [
    "Only select molecules with larger similarity with positives than with negatives"
   ]
  },
  {
   "cell_type": "code",
   "execution_count": 35,
   "id": "24caea80-a506-4b6c-9807-73fe387ac1df",
   "metadata": {},
   "outputs": [
    {
     "name": "stdout",
     "output_type": "stream",
     "text": [
      "172 predicted positives after first selection. 44.2% false positive. \n"
     ]
    }
   ],
   "source": [
    "selection = pipeline_positives_mol_copy[pipeline_positives_mol_copy['SIM_WITH_POSITIVE_SET'] > pipeline_positives_mol_copy['SIM_WITH_NEGATIVE_SET']]\n",
    "false_positives = selection[selection['ALDH1_inhibition']==0]\n",
    "print(\"{:d} predicted positives after first selection. {:.1f}% false positive. \".format(len(selection),100*len(false_positives)/len(selection)))"
   ]
  },
  {
   "cell_type": "markdown",
   "id": "d4288406-31b1-474f-bb85-21dcfd99fca2",
   "metadata": {},
   "source": [
    "Sort the selection by similarity with positives and pick the first 100 molecules"
   ]
  },
  {
   "cell_type": "code",
   "execution_count": 36,
   "id": "65d061ac-9359-4876-bf42-457ddbaaec9b",
   "metadata": {},
   "outputs": [
    {
     "name": "stdout",
     "output_type": "stream",
     "text": [
      "100 predicted positives after second selection. 38.0% false positive. \n"
     ]
    }
   ],
   "source": [
    "selection_copy = selection.copy()\n",
    "selection_copy = selection_copy.sort_values(by=['SIM_WITH_POSITIVE_SET'], ascending=False);\n",
    "selection_copy = selection_copy.iloc[0:100]\n",
    "false_positives = selection_copy[selection_copy['ALDH1_inhibition']==0]\n",
    "print(\"{:d} predicted positives after second selection. {:.1f}% false positive. \".format(len(selection_copy),100*len(false_positives)/len(selection_copy)))"
   ]
  },
  {
   "cell_type": "markdown",
   "id": "8751b17e-6c27-41ba-83b5-848ba5a2ea30",
   "metadata": {},
   "source": [
    "Try if low score on similarity with negatives works better..."
   ]
  },
  {
   "cell_type": "code",
   "execution_count": 37,
   "id": "a1aa3e90-e13d-4113-ab72-e199581f511f",
   "metadata": {},
   "outputs": [
    {
     "name": "stdout",
     "output_type": "stream",
     "text": [
      "100 predicted positives after second selection. 39.0% false positive. \n"
     ]
    }
   ],
   "source": [
    "selection_copy = selection.copy()\n",
    "selection_copy = selection_copy.sort_values(by=['SIM_WITH_NEGATIVE_SET'], ascending=True);\n",
    "selection_copy = selection_copy.iloc[0:100]\n",
    "false_positives = selection_copy[selection_copy['ALDH1_inhibition']==0]\n",
    "print(\"{:d} predicted positives after second selection. {:.1f}% false positive. \".format(len(selection_copy),100*len(false_positives)/len(selection_copy)))"
   ]
  },
  {
   "cell_type": "code",
   "execution_count": null,
   "id": "5ca4d002-d0cf-4fd3-a8aa-92414f46753d",
   "metadata": {},
   "outputs": [],
   "source": []
  }
 ],
 "metadata": {
  "kernelspec": {
   "display_name": "Python 3",
   "language": "python",
   "name": "python3"
  },
  "language_info": {
   "codemirror_mode": {
    "name": "ipython",
    "version": 3
   },
   "file_extension": ".py",
   "mimetype": "text/x-python",
   "name": "python",
   "nbconvert_exporter": "python",
   "pygments_lexer": "ipython3",
   "version": "3.8.8"
  }
 },
 "nbformat": 4,
 "nbformat_minor": 5
}
