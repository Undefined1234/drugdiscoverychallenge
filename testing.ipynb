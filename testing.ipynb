{
 "cells": [
  {
   "cell_type": "code",
   "execution_count": 9,
   "metadata": {},
   "outputs": [],
   "source": [
    "import os\n",
    "import numpy as np\n",
    "import pandas as pd\n",
    "from rdkit.Chem import PandasTools, Descriptors\n",
    "from rdkit.ML.Descriptors import MoleculeDescriptors\n",
    "\n",
    "from IPython.display import display    "
   ]
  },
  {
   "cell_type": "code",
   "execution_count": 2,
   "metadata": {},
   "outputs": [],
   "source": [
    "TESTED_MOLECULE_PATH = \"data\\\\tested_molecules-1.csv\""
   ]
  },
  {
   "cell_type": "code",
   "execution_count": 3,
   "metadata": {},
   "outputs": [
    {
     "name": "stdout",
     "output_type": "stream",
     "text": [
      "                                              SMILES  ALDH1_inhibition  \\\n",
      "0  COc1ccccc1CC(NC(C)=O)C(=O)NC1CCN(c2nnnn2-c2ccc...                 1   \n",
      "1             O=C(CSc1nc2cccnc2n1Cc1ccccc1)NCc1ccco1                 1   \n",
      "2  Cc1cccc2cc(C[NH+](CC3CCCO3)C(c3nnnn3Cc3ccco3)C...                 1   \n",
      "3                  CCN(CC)c1ccc2c(Cl)c(Br)c(=O)oc2c1                 1   \n",
      "4  CS(=O)(=O)N1CCc2cc(-c3csc(NC(=O)Cc4cccs4)n3)ccc21                 1   \n",
      "\n",
      "                                               ROMol  \n",
      "0  <rdkit.Chem.rdchem.Mol object at 0x0000027934C...  \n",
      "1  <rdkit.Chem.rdchem.Mol object at 0x0000027934C...  \n",
      "2  <rdkit.Chem.rdchem.Mol object at 0x0000027934C...  \n",
      "3  <rdkit.Chem.rdchem.Mol object at 0x0000027934C...  \n",
      "4  <rdkit.Chem.rdchem.Mol object at 0x0000027934C...  \n"
     ]
    }
   ],
   "source": [
    "tested_molecules = pd.read_csv(os.path.join(os.getcwd(), TESTED_MOLECULE_PATH))\n",
    "PandasTools.AddMoleculeColumnToFrame(tested_molecules, smilesCol='SMILES')\n",
    "# r = PandasTools.FrameToGridImage(tested_molecules, molsPerRow=32, maxMols=1000)\n",
    "\n",
    "print(tested_molecules.head())"
   ]
  },
  {
   "cell_type": "code",
   "execution_count": 5,
   "metadata": {},
   "outputs": [],
   "source": [
    "desc_list = [n[0] for n in Descriptors._descList]\n",
    "calc = MoleculeDescriptors.MolecularDescriptorCalculator(desc_list)\n",
    "\n",
    "rdkit_desc = [calc.CalcDescriptors(m) for m in tested_molecules[\"ROMol\"]]"
   ]
  },
  {
   "cell_type": "code",
   "execution_count": 11,
   "metadata": {},
   "outputs": [
    {
     "name": "stdout",
     "output_type": "stream",
     "text": [
      "209\n"
     ]
    }
   ],
   "source": [
    "np_mol = np.array(rdkit_desc)\n",
    "print(len(np_mol.T))\n",
    "\n",
    "for name, val in enumerate(np_mol):\n",
    "    "
   ]
  }
 ],
 "metadata": {
  "kernelspec": {
   "display_name": "base",
   "language": "python",
   "name": "python3"
  },
  "language_info": {
   "codemirror_mode": {
    "name": "ipython",
    "version": 3
   },
   "file_extension": ".py",
   "mimetype": "text/x-python",
   "name": "python",
   "nbconvert_exporter": "python",
   "pygments_lexer": "ipython3",
   "version": "3.8.8"
  },
  "orig_nbformat": 4
 },
 "nbformat": 4,
 "nbformat_minor": 2
}
