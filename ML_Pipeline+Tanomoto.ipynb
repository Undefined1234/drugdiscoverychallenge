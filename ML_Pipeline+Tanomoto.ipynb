{
 "cells": [
  {
   "cell_type": "code",
   "execution_count": 18,
   "metadata": {},
   "outputs": [],
   "source": [
    "import os\n",
    "import numpy as np\n",
    "import pandas as pd\n",
    "import matplotlib.pyplot as plt\n",
    "import seaborn as sns\n",
    "from IPython.display import display\n",
    "from rdkit.Chem import PandasTools, Descriptors\n",
    "from rdkit.ML.Descriptors import MoleculeDescriptors\n",
    "from sklearn import pipeline as pl\n",
    "from sklearn import preprocessing as pp\n",
    "from sklearn import tree\n",
    "from sklearn.metrics import confusion_matrix\n",
    "from sklearn.model_selection import train_test_split\n",
    "from sklearn.decomposition import PCA\n",
    "from sklearn.model_selection import cross_val_score\n",
    "#import graphviz "
   ]
  },
  {
   "cell_type": "markdown",
   "metadata": {},
   "source": [
    "### Dataset initiation\n",
    "Initiate and prepare the dataset with descriptors to make them usable for the ML-model. "
   ]
  },
  {
   "cell_type": "code",
   "execution_count": 19,
   "metadata": {},
   "outputs": [
    {
     "data": {
      "text/html": [
       "<div>\n",
       "<style scoped>\n",
       "    .dataframe tbody tr th:only-of-type {\n",
       "        vertical-align: middle;\n",
       "    }\n",
       "\n",
       "    .dataframe tbody tr th {\n",
       "        vertical-align: top;\n",
       "    }\n",
       "\n",
       "    .dataframe thead th {\n",
       "        text-align: right;\n",
       "    }\n",
       "</style>\n",
       "<table border=\"1\" class=\"dataframe\">\n",
       "  <thead>\n",
       "    <tr style=\"text-align: right;\">\n",
       "      <th></th>\n",
       "      <th>SMILES</th>\n",
       "      <th>ALDH1_inhibition</th>\n",
       "      <th>ROMol</th>\n",
       "    </tr>\n",
       "  </thead>\n",
       "  <tbody>\n",
       "    <tr>\n",
       "      <th>0</th>\n",
       "      <td>[NH3+]CCSSCC[NH3+]</td>\n",
       "      <td>0</td>\n",
       "      <td>&lt;rdkit.Chem.rdchem.Mol object at 0x00000203918...</td>\n",
       "    </tr>\n",
       "    <tr>\n",
       "      <th>1</th>\n",
       "      <td>[NH3+]CCC[NH2+]CCCC[NH2+]CCC[NH3+]</td>\n",
       "      <td>0</td>\n",
       "      <td>&lt;rdkit.Chem.rdchem.Mol object at 0x00000203918...</td>\n",
       "    </tr>\n",
       "    <tr>\n",
       "      <th>2</th>\n",
       "      <td>[NH3+]CCCCCCCCCC[NH3+]</td>\n",
       "      <td>0</td>\n",
       "      <td>&lt;rdkit.Chem.rdchem.Mol object at 0x00000203918...</td>\n",
       "    </tr>\n",
       "    <tr>\n",
       "      <th>3</th>\n",
       "      <td>[NH3+]CCSSCC[NH3+]</td>\n",
       "      <td>0</td>\n",
       "      <td>&lt;rdkit.Chem.rdchem.Mol object at 0x00000203918...</td>\n",
       "    </tr>\n",
       "    <tr>\n",
       "      <th>4</th>\n",
       "      <td>ClCC[NH+](CCCl)CCCl</td>\n",
       "      <td>0</td>\n",
       "      <td>&lt;rdkit.Chem.rdchem.Mol object at 0x00000203918...</td>\n",
       "    </tr>\n",
       "  </tbody>\n",
       "</table>\n",
       "</div>"
      ],
      "text/plain": [
       "                               SMILES  ALDH1_inhibition  \\\n",
       "0                  [NH3+]CCSSCC[NH3+]                 0   \n",
       "1  [NH3+]CCC[NH2+]CCCC[NH2+]CCC[NH3+]                 0   \n",
       "2              [NH3+]CCCCCCCCCC[NH3+]                 0   \n",
       "3                  [NH3+]CCSSCC[NH3+]                 0   \n",
       "4                 ClCC[NH+](CCCl)CCCl                 0   \n",
       "\n",
       "                                               ROMol  \n",
       "0  <rdkit.Chem.rdchem.Mol object at 0x00000203918...  \n",
       "1  <rdkit.Chem.rdchem.Mol object at 0x00000203918...  \n",
       "2  <rdkit.Chem.rdchem.Mol object at 0x00000203918...  \n",
       "3  <rdkit.Chem.rdchem.Mol object at 0x00000203918...  \n",
       "4  <rdkit.Chem.rdchem.Mol object at 0x00000203918...  "
      ]
     },
     "execution_count": 19,
     "metadata": {},
     "output_type": "execute_result"
    }
   ],
   "source": [
    "dataset_molecules = pd.read_csv('combi.csv')\n",
    "PandasTools.AddMoleculeColumnToFrame(dataset_molecules, smilesCol='SMILES')\n",
    "dataset_molecules.head()"
   ]
  },
  {
   "cell_type": "code",
   "execution_count": 35,
   "metadata": {},
   "outputs": [
    {
     "data": {
      "text/html": [
       "<div>\n",
       "<style scoped>\n",
       "    .dataframe tbody tr th:only-of-type {\n",
       "        vertical-align: middle;\n",
       "    }\n",
       "\n",
       "    .dataframe tbody tr th {\n",
       "        vertical-align: top;\n",
       "    }\n",
       "\n",
       "    .dataframe thead tr th {\n",
       "        text-align: left;\n",
       "    }\n",
       "</style>\n",
       "<table border=\"1\" class=\"dataframe\">\n",
       "  <thead>\n",
       "    <tr>\n",
       "      <th></th>\n",
       "      <th>MaxAbsEStateIndex</th>\n",
       "      <th>MinAbsEStateIndex</th>\n",
       "      <th>MinEStateIndex</th>\n",
       "      <th>BCUT2D_CHGHI</th>\n",
       "      <th>BCUT2D_CHGLO</th>\n",
       "      <th>BCUT2D_LOGPLOW</th>\n",
       "      <th>BCUT2D_MRLOW</th>\n",
       "      <th>SMR_VSA1</th>\n",
       "      <th>SMR_VSA5</th>\n",
       "      <th>SlogP_VSA2</th>\n",
       "      <th>EState_VSA10</th>\n",
       "      <th>VSA_EState2</th>\n",
       "      <th>FractionCSP3</th>\n",
       "      <th>NumAliphaticRings</th>\n",
       "    </tr>\n",
       "  </thead>\n",
       "  <tbody>\n",
       "    <tr>\n",
       "      <th>0</th>\n",
       "      <td>3.733529</td>\n",
       "      <td>1.036517</td>\n",
       "      <td>1.036517</td>\n",
       "      <td>1.865112</td>\n",
       "      <td>-1.907393</td>\n",
       "      <td>-2.514714</td>\n",
       "      <td>-0.360469</td>\n",
       "      <td>11.467335</td>\n",
       "      <td>0.000000</td>\n",
       "      <td>24.595220</td>\n",
       "      <td>0.0</td>\n",
       "      <td>0.000000</td>\n",
       "      <td>1.0</td>\n",
       "      <td>0</td>\n",
       "    </tr>\n",
       "    <tr>\n",
       "      <th>1</th>\n",
       "      <td>3.831341</td>\n",
       "      <td>1.078701</td>\n",
       "      <td>1.078701</td>\n",
       "      <td>1.940948</td>\n",
       "      <td>-2.003261</td>\n",
       "      <td>-2.860321</td>\n",
       "      <td>-0.666457</td>\n",
       "      <td>22.100912</td>\n",
       "      <td>25.683286</td>\n",
       "      <td>39.268538</td>\n",
       "      <td>0.0</td>\n",
       "      <td>0.000000</td>\n",
       "      <td>1.0</td>\n",
       "      <td>0</td>\n",
       "    </tr>\n",
       "    <tr>\n",
       "      <th>2</th>\n",
       "      <td>3.837048</td>\n",
       "      <td>1.112603</td>\n",
       "      <td>1.112603</td>\n",
       "      <td>1.908706</td>\n",
       "      <td>-1.984755</td>\n",
       "      <td>-2.495713</td>\n",
       "      <td>-0.368558</td>\n",
       "      <td>11.467335</td>\n",
       "      <td>51.366573</td>\n",
       "      <td>13.089513</td>\n",
       "      <td>0.0</td>\n",
       "      <td>0.000000</td>\n",
       "      <td>1.0</td>\n",
       "      <td>0</td>\n",
       "    </tr>\n",
       "    <tr>\n",
       "      <th>3</th>\n",
       "      <td>3.733529</td>\n",
       "      <td>1.036517</td>\n",
       "      <td>1.036517</td>\n",
       "      <td>1.865112</td>\n",
       "      <td>-1.907393</td>\n",
       "      <td>-2.514714</td>\n",
       "      <td>-0.360469</td>\n",
       "      <td>11.467335</td>\n",
       "      <td>0.000000</td>\n",
       "      <td>24.595220</td>\n",
       "      <td>0.0</td>\n",
       "      <td>0.000000</td>\n",
       "      <td>1.0</td>\n",
       "      <td>0</td>\n",
       "    </tr>\n",
       "    <tr>\n",
       "      <th>4</th>\n",
       "      <td>5.560741</td>\n",
       "      <td>0.683642</td>\n",
       "      <td>0.683642</td>\n",
       "      <td>2.035557</td>\n",
       "      <td>-2.143624</td>\n",
       "      <td>-3.126526</td>\n",
       "      <td>-0.892277</td>\n",
       "      <td>4.899910</td>\n",
       "      <td>0.000000</td>\n",
       "      <td>37.274280</td>\n",
       "      <td>0.0</td>\n",
       "      <td>1.388889</td>\n",
       "      <td>1.0</td>\n",
       "      <td>0</td>\n",
       "    </tr>\n",
       "  </tbody>\n",
       "</table>\n",
       "</div>"
      ],
      "text/plain": [
       "  MaxAbsEStateIndex MinAbsEStateIndex MinEStateIndex BCUT2D_CHGHI  \\\n",
       "0          3.733529          1.036517       1.036517     1.865112   \n",
       "1          3.831341          1.078701       1.078701     1.940948   \n",
       "2          3.837048          1.112603       1.112603     1.908706   \n",
       "3          3.733529          1.036517       1.036517     1.865112   \n",
       "4          5.560741          0.683642       0.683642     2.035557   \n",
       "\n",
       "  BCUT2D_CHGLO BCUT2D_LOGPLOW BCUT2D_MRLOW   SMR_VSA1   SMR_VSA5 SlogP_VSA2  \\\n",
       "0    -1.907393      -2.514714    -0.360469  11.467335   0.000000  24.595220   \n",
       "1    -2.003261      -2.860321    -0.666457  22.100912  25.683286  39.268538   \n",
       "2    -1.984755      -2.495713    -0.368558  11.467335  51.366573  13.089513   \n",
       "3    -1.907393      -2.514714    -0.360469  11.467335   0.000000  24.595220   \n",
       "4    -2.143624      -3.126526    -0.892277   4.899910   0.000000  37.274280   \n",
       "\n",
       "  EState_VSA10 VSA_EState2 FractionCSP3 NumAliphaticRings  \n",
       "0          0.0    0.000000          1.0                 0  \n",
       "1          0.0    0.000000          1.0                 0  \n",
       "2          0.0    0.000000          1.0                 0  \n",
       "3          0.0    0.000000          1.0                 0  \n",
       "4          0.0    1.388889          1.0                 0  "
      ]
     },
     "execution_count": 35,
     "metadata": {},
     "output_type": "execute_result"
    }
   ],
   "source": [
    "descriptors_labels = [n[0] for n in Descriptors._descList[:]]\n",
    "calc = MoleculeDescriptors.MolecularDescriptorCalculator(descriptors_labels)\n",
    "rdkit_desc = [calc.CalcDescriptors(m) for m in dataset_molecules[\"ROMol\"]]\n",
    "dataset_descriptors = pd.DataFrame(rdkit_desc, columns=[descriptors_labels])\n",
    "dataset_descriptors = dataset_descriptors[['MaxAbsEStateIndex',\n",
    " 'MinAbsEStateIndex',\n",
    " 'MinEStateIndex',\n",
    " 'BCUT2D_CHGHI',\n",
    " 'BCUT2D_CHGLO',\n",
    " 'BCUT2D_LOGPLOW',\n",
    " 'BCUT2D_MRLOW',\n",
    " 'SMR_VSA1',\n",
    " 'SMR_VSA5',\n",
    " 'SlogP_VSA2',\n",
    " 'EState_VSA10',\n",
    " 'VSA_EState2',\n",
    " 'FractionCSP3',\n",
    " 'NumAliphaticRings']]\n",
    "X_train, X_test, y_train, y_test = train_test_split(dataset_descriptors, dataset_molecules['ALDH1_inhibition'], test_size=0.2, random_state=42)\n",
    "dataset_descriptors.head()"
   ]
  },
  {
   "cell_type": "markdown",
   "metadata": {},
   "source": [
    "### Introducing a Pipeline with minmax scaler and Desciscion tree."
   ]
  },
  {
   "cell_type": "code",
   "execution_count": 36,
   "metadata": {},
   "outputs": [
    {
     "name": "stdout",
     "output_type": "stream",
     "text": [
      "Cross score:\n",
      "[0.675   0.7     0.7125  0.7     0.6875  0.69375 0.68125 0.66875 0.73125\n",
      " 0.68125]\n",
      "score:\n",
      "0.725\n"
     ]
    }
   ],
   "source": [
    "scaler = pp.MinMaxScaler()\n",
    "pca = PCA()\n",
    "dtree = tree.DecisionTreeClassifier(max_features=None, max_depth=None, max_leaf_nodes=None)\n",
    "\n",
    "pipeline = pl.Pipeline(steps=[(\"sc\", scaler), (\"pca\", pca), (\"dtreeCLF\", dtree)])\n",
    "cross_score = cross_val_score(pipeline, X_train, y_train, cv=10)\n",
    "print(\"Cross score:\") \n",
    "print(cross_score)\n",
    "pipeline.fit(X_train, y_train)\n",
    "print(\"score:\")\n",
    "print(pipeline.score(X_test, y_test))"
   ]
  },
  {
   "cell_type": "markdown",
   "metadata": {},
   "source": [
    "### Creating a physical tree"
   ]
  },
  {
   "cell_type": "code",
   "execution_count": 37,
   "metadata": {},
   "outputs": [],
   "source": [
    "#dot_data = tree.export_graphviz(dtree, out_file=None, feature_names=dataset_descriptors.columns, class_names=['1', '0'])\n",
    "#graph = graphviz.Source(dot_data) \n",
    "#graph.render(\"descision_tree\") "
   ]
  },
  {
   "cell_type": "markdown",
   "metadata": {},
   "source": [
    "### Analysing the model"
   ]
  },
  {
   "cell_type": "code",
   "execution_count": 38,
   "metadata": {},
   "outputs": [
    {
     "name": "stdout",
     "output_type": "stream",
     "text": [
      " |+\t|-\t|\n",
      "+|54\t|62\t|\n",
      "-|48\t|236\t|\n",
      "Specificiteit: 0.79 Sensitivity: 0.47 Accuracy 0.72\n"
     ]
    }
   ],
   "source": [
    "y_true = y_test\n",
    "y_pred = pipeline.predict(X_test)\n",
    "\n",
    "tn, fp, fn, tp = confusion_matrix(y_true, y_pred).ravel()\n",
    "specificity = tn / (tn+fp)\n",
    "sensitivity = tp/(tp+fp) \n",
    "accuracy = (tp+tn)/(tp+tn+fp+fn)\n",
    "print(\" |+\\t|-\\t|\\n+|{:.0f}\\t|{:.0f}\\t|\\n-|{:.0f}\\t|{:.0f}\\t|\".format(tp, fp, fn, tn))\n",
    "print(\"Specificiteit: {:.2f} Sensitivity: {:.2f} Accuracy {:.2f}\".format(specificity, sensitivity, accuracy))"
   ]
  },
  {
   "cell_type": "code",
   "execution_count": null,
   "metadata": {},
   "outputs": [],
   "source": []
  },
  {
   "cell_type": "code",
   "execution_count": null,
   "metadata": {},
   "outputs": [],
   "source": []
  },
  {
   "cell_type": "code",
   "execution_count": null,
   "metadata": {},
   "outputs": [],
   "source": []
  },
  {
   "cell_type": "code",
   "execution_count": null,
   "metadata": {},
   "outputs": [],
   "source": []
  },
  {
   "cell_type": "markdown",
   "metadata": {},
   "source": [
    "This code calculates further on X_test\n",
    "A selection of 100 molecules is made, based on the selection from pipeline + further reduction by similarity analysis of the selected molecules with the known ALDH1-positives (and negatives)\n",
    "Can be appended to Constantijns pipeline.\n",
    "Als er problemen zijn laat maar weten."
   ]
  },
  {
   "cell_type": "markdown",
   "metadata": {},
   "source": [
    "## Further processing of the selection"
   ]
  },
  {
   "cell_type": "markdown",
   "metadata": {},
   "source": [
    "Create new datafame from X_test. Append values for 'ALDH1_inhibition' and 'predicted'"
   ]
  },
  {
   "cell_type": "code",
   "execution_count": 39,
   "metadata": {},
   "outputs": [
    {
     "data": {
      "text/html": [
       "<div>\n",
       "<style scoped>\n",
       "    .dataframe tbody tr th:only-of-type {\n",
       "        vertical-align: middle;\n",
       "    }\n",
       "\n",
       "    .dataframe tbody tr th {\n",
       "        vertical-align: top;\n",
       "    }\n",
       "\n",
       "    .dataframe thead tr th {\n",
       "        text-align: left;\n",
       "    }\n",
       "</style>\n",
       "<table border=\"1\" class=\"dataframe\">\n",
       "  <thead>\n",
       "    <tr>\n",
       "      <th></th>\n",
       "      <th>MaxAbsEStateIndex</th>\n",
       "      <th>MinAbsEStateIndex</th>\n",
       "      <th>MinEStateIndex</th>\n",
       "      <th>BCUT2D_CHGHI</th>\n",
       "      <th>BCUT2D_CHGLO</th>\n",
       "      <th>BCUT2D_LOGPLOW</th>\n",
       "      <th>BCUT2D_MRLOW</th>\n",
       "      <th>SMR_VSA1</th>\n",
       "      <th>SMR_VSA5</th>\n",
       "      <th>SlogP_VSA2</th>\n",
       "      <th>EState_VSA10</th>\n",
       "      <th>VSA_EState2</th>\n",
       "      <th>FractionCSP3</th>\n",
       "      <th>NumAliphaticRings</th>\n",
       "      <th>ALDH1_inhibition</th>\n",
       "      <th>predicted</th>\n",
       "    </tr>\n",
       "  </thead>\n",
       "  <tbody>\n",
       "    <tr>\n",
       "      <th>1860</th>\n",
       "      <td>12.938670</td>\n",
       "      <td>0.088947</td>\n",
       "      <td>-3.642991</td>\n",
       "      <td>2.351664</td>\n",
       "      <td>-2.307988</td>\n",
       "      <td>-2.449569</td>\n",
       "      <td>-0.125741</td>\n",
       "      <td>13.212334</td>\n",
       "      <td>38.129358</td>\n",
       "      <td>41.917069</td>\n",
       "      <td>13.212334</td>\n",
       "      <td>13.750281</td>\n",
       "      <td>0.500000</td>\n",
       "      <td>1</td>\n",
       "      <td>0</td>\n",
       "      <td>1</td>\n",
       "    </tr>\n",
       "    <tr>\n",
       "      <th>353</th>\n",
       "      <td>4.597214</td>\n",
       "      <td>0.819103</td>\n",
       "      <td>0.819103</td>\n",
       "      <td>2.225038</td>\n",
       "      <td>-2.049995</td>\n",
       "      <td>-2.684847</td>\n",
       "      <td>-0.460778</td>\n",
       "      <td>5.101408</td>\n",
       "      <td>0.000000</td>\n",
       "      <td>16.531283</td>\n",
       "      <td>0.000000</td>\n",
       "      <td>4.518570</td>\n",
       "      <td>0.000000</td>\n",
       "      <td>1</td>\n",
       "      <td>0</td>\n",
       "      <td>0</td>\n",
       "    </tr>\n",
       "    <tr>\n",
       "      <th>1333</th>\n",
       "      <td>12.173495</td>\n",
       "      <td>0.014973</td>\n",
       "      <td>-0.504740</td>\n",
       "      <td>2.132749</td>\n",
       "      <td>-2.018149</td>\n",
       "      <td>-2.195873</td>\n",
       "      <td>0.097039</td>\n",
       "      <td>9.211688</td>\n",
       "      <td>13.468494</td>\n",
       "      <td>10.350345</td>\n",
       "      <td>9.589074</td>\n",
       "      <td>24.034309</td>\n",
       "      <td>0.125000</td>\n",
       "      <td>0</td>\n",
       "      <td>0</td>\n",
       "      <td>1</td>\n",
       "    </tr>\n",
       "    <tr>\n",
       "      <th>905</th>\n",
       "      <td>12.442508</td>\n",
       "      <td>0.089206</td>\n",
       "      <td>-0.214087</td>\n",
       "      <td>2.206277</td>\n",
       "      <td>-2.106670</td>\n",
       "      <td>-2.313198</td>\n",
       "      <td>0.086127</td>\n",
       "      <td>14.268263</td>\n",
       "      <td>25.869347</td>\n",
       "      <td>36.336766</td>\n",
       "      <td>4.794537</td>\n",
       "      <td>12.870177</td>\n",
       "      <td>0.411765</td>\n",
       "      <td>1</td>\n",
       "      <td>1</td>\n",
       "      <td>0</td>\n",
       "    </tr>\n",
       "    <tr>\n",
       "      <th>1289</th>\n",
       "      <td>5.116451</td>\n",
       "      <td>0.451150</td>\n",
       "      <td>0.451150</td>\n",
       "      <td>1.975855</td>\n",
       "      <td>-2.136225</td>\n",
       "      <td>-2.479488</td>\n",
       "      <td>0.195439</td>\n",
       "      <td>4.736863</td>\n",
       "      <td>6.420822</td>\n",
       "      <td>30.486310</td>\n",
       "      <td>0.000000</td>\n",
       "      <td>0.000000</td>\n",
       "      <td>0.333333</td>\n",
       "      <td>0</td>\n",
       "      <td>1</td>\n",
       "      <td>1</td>\n",
       "    </tr>\n",
       "  </tbody>\n",
       "</table>\n",
       "</div>"
      ],
      "text/plain": [
       "     MaxAbsEStateIndex MinAbsEStateIndex MinEStateIndex BCUT2D_CHGHI  \\\n",
       "1860         12.938670          0.088947      -3.642991     2.351664   \n",
       "353           4.597214          0.819103       0.819103     2.225038   \n",
       "1333         12.173495          0.014973      -0.504740     2.132749   \n",
       "905          12.442508          0.089206      -0.214087     2.206277   \n",
       "1289          5.116451          0.451150       0.451150     1.975855   \n",
       "\n",
       "     BCUT2D_CHGLO BCUT2D_LOGPLOW BCUT2D_MRLOW   SMR_VSA1   SMR_VSA5  \\\n",
       "1860    -2.307988      -2.449569    -0.125741  13.212334  38.129358   \n",
       "353     -2.049995      -2.684847    -0.460778   5.101408   0.000000   \n",
       "1333    -2.018149      -2.195873     0.097039   9.211688  13.468494   \n",
       "905     -2.106670      -2.313198     0.086127  14.268263  25.869347   \n",
       "1289    -2.136225      -2.479488     0.195439   4.736863   6.420822   \n",
       "\n",
       "     SlogP_VSA2 EState_VSA10 VSA_EState2 FractionCSP3 NumAliphaticRings  \\\n",
       "1860  41.917069    13.212334   13.750281     0.500000                 1   \n",
       "353   16.531283     0.000000    4.518570     0.000000                 1   \n",
       "1333  10.350345     9.589074   24.034309     0.125000                 0   \n",
       "905   36.336766     4.794537   12.870177     0.411765                 1   \n",
       "1289  30.486310     0.000000    0.000000     0.333333                 0   \n",
       "\n",
       "     ALDH1_inhibition predicted  \n",
       "1860                0         1  \n",
       "353                 0         0  \n",
       "1333                0         1  \n",
       "905                 1         0  \n",
       "1289                1         1  "
      ]
     },
     "execution_count": 39,
     "metadata": {},
     "output_type": "execute_result"
    }
   ],
   "source": [
    "pipeline_results = X_test.copy()\n",
    "pipeline_results['ALDH1_inhibition'] = y_test\n",
    "pipeline_results['predicted'] = y_pred\n",
    "pipeline_results.head()"
   ]
  },
  {
   "cell_type": "markdown",
   "metadata": {},
   "source": [
    "Select only the predicted positives"
   ]
  },
  {
   "cell_type": "code",
   "execution_count": 40,
   "metadata": {},
   "outputs": [
    {
     "name": "stdout",
     "output_type": "stream",
     "text": [
      "116 positives from pipeline\n"
     ]
    }
   ],
   "source": [
    "pipeline_positives = pipeline_results[pipeline_results['predicted'].values == 1]\n",
    "print(\"{} positives from pipeline\".format(pipeline_positives.shape[0]))"
   ]
  },
  {
   "cell_type": "markdown",
   "metadata": {},
   "source": [
    "## Further Selection with Tanamoto similarity"
   ]
  },
  {
   "cell_type": "markdown",
   "metadata": {},
   "source": [
    "Load all known molecules in frame"
   ]
  },
  {
   "cell_type": "code",
   "execution_count": 41,
   "metadata": {},
   "outputs": [],
   "source": [
    "from rdkit import DataStructs\n",
    "tested_molecules = dataset_molecules.copy()\n",
    "PandasTools.AddMoleculeColumnToFrame(tested_molecules, smilesCol='SMILES')"
   ]
  },
  {
   "cell_type": "markdown",
   "metadata": {},
   "source": [
    "Divide molecules in Inhibitors and non-Inhibitors"
   ]
  },
  {
   "cell_type": "code",
   "execution_count": 42,
   "metadata": {},
   "outputs": [
    {
     "name": "stdout",
     "output_type": "stream",
     "text": [
      "30.0% inhibitors present in known molecules\n"
     ]
    }
   ],
   "source": [
    "tested_molecules_pos = tested_molecules[tested_molecules['ALDH1_inhibition'] == 1]\n",
    "tested_molecules_neg = tested_molecules[tested_molecules['ALDH1_inhibition'] == 0]\n",
    "print(\"{}% inhibitors present in known molecules\".format(100*len(tested_molecules_pos)/len(tested_molecules)))"
   ]
  },
  {
   "cell_type": "markdown",
   "metadata": {},
   "source": [
    "Convert both sets to Morgan Fingerprints (to compare with)"
   ]
  },
  {
   "cell_type": "code",
   "execution_count": 43,
   "metadata": {},
   "outputs": [],
   "source": [
    "from rdkit.Chem import AllChem\n",
    "bulk_pos = [AllChem.GetMorganFingerprintAsBitVect(x,2) for x in tested_molecules_pos['ROMol']]\n",
    "bulk_neg = [AllChem.GetMorganFingerprintAsBitVect(x,2) for x in tested_molecules_neg['ROMol']]\n",
    "len_pos = len(bulk_pos); len_neg = len(bulk_neg)"
   ]
  },
  {
   "cell_type": "markdown",
   "metadata": {},
   "source": [
    "Get indices from pipeline prediction and select these indices from dataset_molecules.\n",
    "This must be done to retreive SMILES again, since these are needed for the comparison in the for loop"
   ]
  },
  {
   "cell_type": "code",
   "execution_count": 44,
   "metadata": {},
   "outputs": [
    {
     "name": "stdout",
     "output_type": "stream",
     "text": [
      "116 positive molecules from pipeline\n"
     ]
    }
   ],
   "source": [
    "index_pipeline_positives = pipeline_positives.index\n",
    "pipeline_positives_mol = dataset_molecules.iloc[index_pipeline_positives]\n",
    "print(\"{} positive molecules from pipeline\".format(len(pipeline_positives_mol)))"
   ]
  },
  {
   "cell_type": "markdown",
   "metadata": {},
   "source": [
    "Calculate similarity with tested positives/negatives for every mol from pipeline_positives"
   ]
  },
  {
   "cell_type": "code",
   "execution_count": 45,
   "metadata": {},
   "outputs": [
    {
     "data": {
      "text/html": [
       "<div>\n",
       "<style scoped>\n",
       "    .dataframe tbody tr th:only-of-type {\n",
       "        vertical-align: middle;\n",
       "    }\n",
       "\n",
       "    .dataframe tbody tr th {\n",
       "        vertical-align: top;\n",
       "    }\n",
       "\n",
       "    .dataframe thead th {\n",
       "        text-align: right;\n",
       "    }\n",
       "</style>\n",
       "<table border=\"1\" class=\"dataframe\">\n",
       "  <thead>\n",
       "    <tr style=\"text-align: right;\">\n",
       "      <th></th>\n",
       "      <th>SMILES</th>\n",
       "      <th>ALDH1_inhibition</th>\n",
       "      <th>ROMol</th>\n",
       "      <th>SIM_WITH_POSITIVE_SET</th>\n",
       "      <th>SIM_WITH_NEGATIVE_SET</th>\n",
       "    </tr>\n",
       "  </thead>\n",
       "  <tbody>\n",
       "    <tr>\n",
       "      <th>1860</th>\n",
       "      <td>Cc1n[nH]c(C)c1S(=O)(=O)N1CCCC(C(=O)NCc2cccs2)C1</td>\n",
       "      <td>0</td>\n",
       "      <td>&lt;rdkit.Chem.rdchem.Mol object at 0x00000203918...</td>\n",
       "      <td>0.147624</td>\n",
       "      <td>0.116059</td>\n",
       "    </tr>\n",
       "    <tr>\n",
       "      <th>1333</th>\n",
       "      <td>Cc1ccc2c(c1)oc(=O)n2CC(=O)c1ccccc1</td>\n",
       "      <td>0</td>\n",
       "      <td>&lt;rdkit.Chem.rdchem.Mol object at 0x00000203918...</td>\n",
       "      <td>0.148996</td>\n",
       "      <td>0.125943</td>\n",
       "    </tr>\n",
       "    <tr>\n",
       "      <th>1289</th>\n",
       "      <td>COCCCNC(=S)NNC(=S)Nc1ccccc1</td>\n",
       "      <td>1</td>\n",
       "      <td>&lt;rdkit.Chem.rdchem.Mol object at 0x00000203918...</td>\n",
       "      <td>0.122796</td>\n",
       "      <td>0.116723</td>\n",
       "    </tr>\n",
       "    <tr>\n",
       "      <th>938</th>\n",
       "      <td>COC(=O)c1c(-c2ccco2)csc1NC(=O)C1CC=CCC1C(=O)[O-]</td>\n",
       "      <td>1</td>\n",
       "      <td>&lt;rdkit.Chem.rdchem.Mol object at 0x00000203918...</td>\n",
       "      <td>0.134356</td>\n",
       "      <td>0.092620</td>\n",
       "    </tr>\n",
       "    <tr>\n",
       "      <th>56</th>\n",
       "      <td>N#CC(Cc1ccccc1OC(F)F)c1nc2ccccc2[nH]1</td>\n",
       "      <td>0</td>\n",
       "      <td>&lt;rdkit.Chem.rdchem.Mol object at 0x00000203918...</td>\n",
       "      <td>0.075265</td>\n",
       "      <td>0.106971</td>\n",
       "    </tr>\n",
       "  </tbody>\n",
       "</table>\n",
       "</div>"
      ],
      "text/plain": [
       "                                                SMILES  ALDH1_inhibition  \\\n",
       "1860   Cc1n[nH]c(C)c1S(=O)(=O)N1CCCC(C(=O)NCc2cccs2)C1                 0   \n",
       "1333                Cc1ccc2c(c1)oc(=O)n2CC(=O)c1ccccc1                 0   \n",
       "1289                       COCCCNC(=S)NNC(=S)Nc1ccccc1                 1   \n",
       "938   COC(=O)c1c(-c2ccco2)csc1NC(=O)C1CC=CCC1C(=O)[O-]                 1   \n",
       "56               N#CC(Cc1ccccc1OC(F)F)c1nc2ccccc2[nH]1                 0   \n",
       "\n",
       "                                                  ROMol  \\\n",
       "1860  <rdkit.Chem.rdchem.Mol object at 0x00000203918...   \n",
       "1333  <rdkit.Chem.rdchem.Mol object at 0x00000203918...   \n",
       "1289  <rdkit.Chem.rdchem.Mol object at 0x00000203918...   \n",
       "938   <rdkit.Chem.rdchem.Mol object at 0x00000203918...   \n",
       "56    <rdkit.Chem.rdchem.Mol object at 0x00000203918...   \n",
       "\n",
       "      SIM_WITH_POSITIVE_SET  SIM_WITH_NEGATIVE_SET  \n",
       "1860               0.147624               0.116059  \n",
       "1333               0.148996               0.125943  \n",
       "1289               0.122796               0.116723  \n",
       "938                0.134356               0.092620  \n",
       "56                 0.075265               0.106971  "
      ]
     },
     "execution_count": 45,
     "metadata": {},
     "output_type": "execute_result"
    }
   ],
   "source": [
    "pipeline_positives_mol_copy = pipeline_positives_mol.copy(deep=False)\n",
    "# Loop all rows from test set\n",
    "for index, row in pipeline_positives_mol.iterrows():     \n",
    "    test_smiles = row['SMILES']\n",
    "    # Make allchem MolFrom the SMILES and convert it into to GetMorganFingerprintAsBitVec\n",
    "    test_mol = AllChem.MolFromSmiles(test_smiles)\n",
    "    ref_fps = AllChem.GetMorganFingerprintAsBitVect(test_mol,2)\n",
    "    # Calculate similarities with positives and negative\n",
    "    similarity_pos = [DataStructs.FingerprintSimilarity(ref_fps,x) for x in bulk_pos]\n",
    "    similarity_neg = [DataStructs.FingerprintSimilarity(ref_fps,x) for x in bulk_neg]\n",
    "    # Add all positive and negative similarities and normalize\n",
    "    rel_sum_pos = sum(similarity_pos)/len_pos # divide by sizes to normalize the result\n",
    "    rel_sum_neg = sum(similarity_neg)/len_neg # divide by sizes to normalize the result\n",
    "    \n",
    "    pipeline_positives_mol_copy.loc[index, ['SIM_WITH_POSITIVE_SET']] = rel_sum_pos\n",
    "    pipeline_positives_mol_copy.loc[index, ['SIM_WITH_NEGATIVE_SET']] = rel_sum_neg   \n",
    "\n",
    "pipeline_positives_mol_copy.head()"
   ]
  },
  {
   "cell_type": "code",
   "execution_count": 46,
   "metadata": {},
   "outputs": [
    {
     "name": "stdout",
     "output_type": "stream",
     "text": [
      "116 predicted positives from pipeline. 53.4% false. \n"
     ]
    }
   ],
   "source": [
    "false_positives = pipeline_positives_mol_copy[pipeline_positives_mol_copy['ALDH1_inhibition'] == 0]\n",
    "print(\"{:d} predicted positives from pipeline. {:.1f}% false. \".format(len(pipeline_positives_mol_copy),100*len(false_positives)/len(pipeline_positives_mol_copy)))"
   ]
  },
  {
   "cell_type": "markdown",
   "metadata": {},
   "source": [
    "Only select molecules with larger similarity with positives than with negatives"
   ]
  },
  {
   "cell_type": "code",
   "execution_count": 47,
   "metadata": {},
   "outputs": [
    {
     "name": "stdout",
     "output_type": "stream",
     "text": [
      "102 predicted positives after first selection. 50.0% false positive. \n"
     ]
    }
   ],
   "source": [
    "selection = pipeline_positives_mol_copy[pipeline_positives_mol_copy['SIM_WITH_POSITIVE_SET'] > pipeline_positives_mol_copy['SIM_WITH_NEGATIVE_SET']]\n",
    "false_positives = selection[selection['ALDH1_inhibition']==0]\n",
    "print(\"{:d} predicted positives after first selection. {:.1f}% false positive. \".format(len(selection),100*len(false_positives)/len(selection)))"
   ]
  },
  {
   "cell_type": "markdown",
   "metadata": {},
   "source": [
    "Sort the selection by similarity with positives and pick the first 100 molecules"
   ]
  },
  {
   "cell_type": "code",
   "execution_count": 33,
   "metadata": {},
   "outputs": [
    {
     "name": "stdout",
     "output_type": "stream",
     "text": [
      "100 predicted positives after second selection. 43.0% false positive. \n"
     ]
    }
   ],
   "source": [
    "selection_copy = selection.copy()\n",
    "selection_copy = selection_copy.sort_values(by=['SIM_WITH_POSITIVE_SET'], ascending=False);\n",
    "selection_copy = selection_copy.iloc[0:100]\n",
    "false_positives = selection_copy[selection_copy['ALDH1_inhibition']==0]\n",
    "print(\"{:d} predicted positives after second selection. {:.1f}% false positive. \".format(len(selection_copy),100*len(false_positives)/len(selection_copy)))"
   ]
  },
  {
   "cell_type": "markdown",
   "metadata": {},
   "source": [
    "Try if low score on similarity with negatives works better..."
   ]
  },
  {
   "cell_type": "code",
   "execution_count": 34,
   "metadata": {},
   "outputs": [
    {
     "name": "stdout",
     "output_type": "stream",
     "text": [
      "100 predicted positives after second selection. 43.0% false positive. \n"
     ]
    }
   ],
   "source": [
    "selection_copy = selection.copy()\n",
    "selection_copy = selection_copy.sort_values(by=['SIM_WITH_NEGATIVE_SET'], ascending=True);\n",
    "selection_copy = selection_copy.iloc[0:100]\n",
    "false_positives = selection_copy[selection_copy['ALDH1_inhibition']==0]\n",
    "print(\"{:d} predicted positives after second selection. {:.1f}% false positive. \".format(len(selection_copy),100*len(false_positives)/len(selection_copy)))"
   ]
  },
  {
   "cell_type": "code",
   "execution_count": null,
   "metadata": {},
   "outputs": [],
   "source": []
  }
 ],
 "metadata": {
  "kernelspec": {
   "display_name": "Python 3",
   "language": "python",
   "name": "python3"
  },
  "language_info": {
   "codemirror_mode": {
    "name": "ipython",
    "version": 3
   },
   "file_extension": ".py",
   "mimetype": "text/x-python",
   "name": "python",
   "nbconvert_exporter": "python",
   "pygments_lexer": "ipython3",
   "version": "3.8.8"
  }
 },
 "nbformat": 4,
 "nbformat_minor": 4
}
